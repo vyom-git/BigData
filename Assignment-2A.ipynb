{
 "cells": [
  {
   "cell_type": "code",
   "execution_count": 1,
   "metadata": {},
   "outputs": [],
   "source": [
    "# Import the required classes\n",
    "from pyspark import SparkConf\n",
    "import pyspark.sql.types\n",
    "import matplotlib.pyplot as plt\n",
    "import seaborn as sns\n",
    "from pyspark.sql.functions import *\n",
    "from pyspark.sql import functions as F\n",
    "from pyspark.ml import Pipeline\n",
    "from pyspark.ml.feature import StringIndexer\n",
    "from pyspark.ml.feature import OneHotEncoder\n",
    "from pyspark.ml.feature import VectorAssembler\n",
    "from pyspark.ml.classification import DecisionTreeClassifier\n",
    "from pyspark.ml.classification import GBTClassifier\n",
    "from pyspark.ml.evaluation import BinaryClassificationEvaluator\n",
    "from pyspark.ml.clustering import KMeans"
   ]
  },
  {
   "cell_type": "markdown",
   "metadata": {},
   "source": [
    "# 1. 1. Data preparation and exploration (35%)\n",
    "## 1.1 Creating Spark Session (4%)"
   ]
  },
  {
   "cell_type": "code",
   "execution_count": 2,
   "metadata": {},
   "outputs": [],
   "source": [
    "# 1.1.1\n",
    "# 1.1.2\n",
    "# Set working processors to number of logical cores on the machine\n",
    "master = \"local[*]\"\n",
    "# Name to be shown on Spark cluster UI page\n",
    "app_name = \"Assignment 2A: Detecting Linux system hacking activities\"\n",
    "\n",
    "# setting configuration parameters for Spark\n",
    "spark_conf = SparkConf().setMaster(master).setAppName(app_name)\n",
    "\n",
    "# Import SparkContext and SparkSession classes \n",
    "from pyspark import SparkContext\n",
    "from pyspark.sql import SparkSession\n",
    "\n",
    "# Building SparkSession and modyfying the config to make 4 partitions for each df\n",
    "spark = SparkSession.builder.config(conf=spark_conf).config(\"spark.sql.files.maxPartitionBytes\", 34078720).getOrCreate()\n",
    "sc = spark.sparkContext\n",
    "sc.setLogLevel('ERROR')"
   ]
  },
  {
   "cell_type": "markdown",
   "metadata": {},
   "source": [
    "## 1.2 Loading the data (16%)"
   ]
  },
  {
   "cell_type": "code",
   "execution_count": 3,
   "metadata": {},
   "outputs": [],
   "source": [
    "# 1.2.1\n",
    "# Defining the process schema using the metadata\n",
    "from pyspark.sql.types import LongType, StringType, StructField, StructType, BooleanType, ArrayType, IntegerType, DoubleType\n",
    "pro_schema = StructType([\n",
    "    StructField(\"ts\", IntegerType()),\n",
    "    StructField(\"PID\", IntegerType()),\n",
    "    StructField(\"TRUN\", IntegerType()),\n",
    "    StructField(\"TSLPI\", IntegerType()),\n",
    "    StructField(\"TSLPU\", IntegerType()),\n",
    "    StructField(\"POLI\", StringType()),\n",
    "    StructField(\"NICE\", IntegerType()),\n",
    "    StructField(\"PRI\", IntegerType()),\n",
    "    StructField(\"RTPR\", IntegerType()),\n",
    "    StructField(\"CPUNR\", IntegerType()),\n",
    "    StructField(\"Status\", StringType()),\n",
    "    StructField(\"EXC\", IntegerType()),\n",
    "    StructField(\"State\", StringType()),\n",
    "    StructField(\"CPU\", DoubleType()),\n",
    "    StructField(\"CMD\", StringType()),\n",
    "    StructField(\"attack\", IntegerType()),\n",
    "    StructField(\"type\", StringType())\n",
    "])"
   ]
  },
  {
   "cell_type": "code",
   "execution_count": 4,
   "metadata": {},
   "outputs": [],
   "source": [
    "# 1.2.1\n",
    "# Defining the memory schema using the metadata\n",
    "temp_mem_schema = StructType([\n",
    "    StructField(\"ts\", IntegerType()),\n",
    "    StructField(\"PID\", IntegerType()),\n",
    "    StructField(\"MINFLT\", IntegerType()),\n",
    "    StructField(\"MAJFLT\", IntegerType()),\n",
    "    StructField(\"VSTEXT\", IntegerType()),\n",
    "    StructField(\"VSIZE\", IntegerType()),\n",
    "    StructField(\"RSIZE\", DoubleType()),\n",
    "    StructField(\"VGROW\", IntegerType()),\n",
    "    StructField(\"RGROW\", DoubleType()),\n",
    "    StructField(\"MEM\", DoubleType()),\n",
    "    StructField(\"CMD\", StringType()),\n",
    "    StructField(\"attack\", IntegerType()),\n",
    "    StructField(\"type\", StringType())\n",
    "])"
   ]
  },
  {
   "cell_type": "code",
   "execution_count": 5,
   "metadata": {},
   "outputs": [],
   "source": [
    "# 1.2.1\n",
    "# Reading the data acccording to the above schema\n",
    "process_df = spark.read.csv('linux_p*.csv', header = True, schema = pro_schema)\n",
    "temp_mem_df = spark.read.csv('linux_m*.csv', header = True, schema = temp_mem_schema)"
   ]
  },
  {
   "cell_type": "code",
   "execution_count": 6,
   "metadata": {},
   "outputs": [
    {
     "name": "stdout",
     "output_type": "stream",
     "text": [
      "1927968\n",
      "2000000\n"
     ]
    }
   ],
   "source": [
    "# 1.2.1\n",
    "# Row count for each df\n",
    "print(process_df.count())\n",
    "print(temp_mem_df.count())"
   ]
  },
  {
   "cell_type": "code",
   "execution_count": 7,
   "metadata": {},
   "outputs": [
    {
     "name": "stdout",
     "output_type": "stream",
     "text": [
      "+---+---+----+-----+-----+----+----+---+----+-----+------+---+-----+---+---+------+----+\n",
      "| ts|PID|TRUN|TSLPI|TSLPU|POLI|NICE|PRI|RTPR|CPUNR|Status|EXC|State|CPU|CMD|attack|type|\n",
      "+---+---+----+-----+-----+----+----+---+----+-----+------+---+-----+---+---+------+----+\n",
      "|  0|  0|   0|    0|    0|   0|   0|  0|   0|    0|     0|  0|    0|  0|  0|     0|   0|\n",
      "+---+---+----+-----+-----+----+----+---+----+-----+------+---+-----+---+---+------+----+\n",
      "\n"
     ]
    }
   ],
   "source": [
    "# 1.2.2\n",
    "# Checking for nulls\n",
    "check_pro = process_df.agg(*[F.count(F.when(F.isnull(c), c)).alias(c) for c in process_df.columns])\n",
    "check_pro.show()"
   ]
  },
  {
   "cell_type": "code",
   "execution_count": 8,
   "metadata": {},
   "outputs": [
    {
     "name": "stdout",
     "output_type": "stream",
     "text": [
      "+---+---+------+------+------+------+-----+-----+-----+---+---+------+----+\n",
      "| ts|PID|MINFLT|MAJFLT|VSTEXT| VSIZE|RSIZE|VGROW|RGROW|MEM|CMD|attack|type|\n",
      "+---+---+------+------+------+------+-----+-----+-----+---+---+------+----+\n",
      "|  0|  0|  9737|448868| 27907|523958| 9728|50912| 9737|  0|  0|     0|   0|\n",
      "+---+---+------+------+------+------+-----+-----+-----+---+---+------+----+\n",
      "\n"
     ]
    }
   ],
   "source": [
    "# 1.2.2\n",
    "# Checking for nulls\n",
    "check_mem = temp_mem_df.agg(*[F.count(F.when(F.isnull(c), c)).alias(c) for c in temp_mem_df.columns])\n",
    "check_mem.show()"
   ]
  },
  {
   "cell_type": "markdown",
   "metadata": {},
   "source": [
    "#### Here we observe that the process schema follows the metadata file since it doesn't contain null values while the memory schema doesn't and has a lot of null values. Therefore, we import the data as StringType() and then modify it according to our needs in the next few steps."
   ]
  },
  {
   "cell_type": "code",
   "execution_count": 9,
   "metadata": {},
   "outputs": [],
   "source": [
    "# 1.2.1\n",
    "# Defining the memory schema again\n",
    "mem_schema = StructType([\n",
    "    StructField(\"ts\", IntegerType()),\n",
    "    StructField(\"PID\", IntegerType()),\n",
    "    StructField(\"MINFLT\", StringType()),\n",
    "    StructField(\"MAJFLT\", StringType()),\n",
    "    StructField(\"VSTEXT\", StringType()),\n",
    "    StructField(\"VSIZE\", DoubleType()),\n",
    "    StructField(\"RSIZE\", StringType()),\n",
    "    StructField(\"VGROW\", StringType()),\n",
    "    StructField(\"RGROW\", StringType()),\n",
    "    StructField(\"MEM\", DoubleType()),\n",
    "    StructField(\"CMD\", StringType()),\n",
    "    StructField(\"attack\", IntegerType()),\n",
    "    StructField(\"type\", StringType())\n",
    "])"
   ]
  },
  {
   "cell_type": "code",
   "execution_count": 10,
   "metadata": {},
   "outputs": [],
   "source": [
    "# 1.2.1\n",
    "# Reading the data acccording to the above schema\n",
    "memory_df = spark.read.csv('linux_m*.csv', header = True, schema = mem_schema)"
   ]
  },
  {
   "cell_type": "code",
   "execution_count": 11,
   "metadata": {},
   "outputs": [
    {
     "data": {
      "text/plain": [
       "DataFrame[ts: int, PID: int, TRUN: int, TSLPI: int, TSLPU: int, POLI: string, NICE: int, PRI: int, RTPR: int, CPUNR: int, Status: string, EXC: int, State: string, CPU: double, CMD: string, attack: int, type: string]"
      ]
     },
     "execution_count": 11,
     "metadata": {},
     "output_type": "execute_result"
    }
   ],
   "source": [
    "# 1.1.1\n",
    "# caching the data\n",
    "memory_df.cache()\n",
    "process_df.cache()"
   ]
  },
  {
   "cell_type": "code",
   "execution_count": 12,
   "metadata": {},
   "outputs": [
    {
     "name": "stdout",
     "output_type": "stream",
     "text": [
      "+---+---+------+------+------+-----+-----+-----+-----+---+---+------+----+\n",
      "| ts|PID|MINFLT|MAJFLT|VSTEXT|VSIZE|RSIZE|VGROW|RGROW|MEM|CMD|attack|type|\n",
      "+---+---+------+------+------+-----+-----+-----+-----+---+---+------+----+\n",
      "|  0|  0|     0|     0|     0|    0|    0|    0|    0|  0|  0|     0|   0|\n",
      "+---+---+------+------+------+-----+-----+-----+-----+---+---+------+----+\n",
      "\n"
     ]
    }
   ],
   "source": [
    "# 1.2.2\n",
    "# Checking for nulls\n",
    "check_mem = memory_df.agg(*[F.count(F.when(F.isnull(c), c)).alias(c) for c in memory_df.columns])\n",
    "check_mem.show()"
   ]
  },
  {
   "cell_type": "markdown",
   "metadata": {},
   "source": [
    "#### We observe that the columns 'MINFLT', 'MAJFLT', 'VSTEXT', 'RSIZE', 'VGROW', 'RGROW' in memory data do not follow the datatype from the metadata file therefore we import them in StringType() and transform them in the following steps."
   ]
  },
  {
   "cell_type": "code",
   "execution_count": 13,
   "metadata": {},
   "outputs": [],
   "source": [
    "# 1.2.2\n",
    "# Replacing K with 0000s\n",
    "# Using substring to remove K and typecast the data to int\n",
    "# Multiply by 1000 after typecasting\n",
    "memory_df = memory_df.withColumn('MINFLT',\\\n",
    "                     F.when(col(\"MINFLT\").contains('K'),\\\n",
    "                            expr(\"substring(MINFLT, 1, length(MINFLT)-1)\")\\\n",
    "                            .cast('int')*1000).otherwise(col(\"MINFLT\").cast('int')))"
   ]
  },
  {
   "cell_type": "code",
   "execution_count": 14,
   "metadata": {},
   "outputs": [],
   "source": [
    "# 1.2.2\n",
    "# Replacing M with 000000s\n",
    "# Using substring to remove M and typecast the data to int\n",
    "# Multiply by 1000000 after typecasting\n",
    "memory_df = memory_df.withColumn('MAJFLT',\\\n",
    "                 F.when(col(\"MAJFLT\").contains('M'),\\\n",
    "                        expr(\"substring(MAJFLT, 1, length(MAJFLT)-1)\")\\\n",
    "                        .cast('double')*1000000).otherwise(col(\"MAJFLT\").cast('double')))"
   ]
  },
  {
   "cell_type": "code",
   "execution_count": 15,
   "metadata": {},
   "outputs": [],
   "source": [
    "# 1.2.2\n",
    "# Replacing K with 0000s\n",
    "# Using substring to remove K and typecast the data to int\n",
    "# Multiply by 1000 after typecasting\n",
    "memory_df = memory_df.withColumn('VSTEXT',\\\n",
    "                 F.when(col(\"VSTEXT\").contains('K'),\\\n",
    "                        expr(\"substring(VSTEXT, 1, length(VSTEXT)-1)\")\\\n",
    "                        .cast('double')*1000).otherwise(col(\"VSTEXT\").cast('double')))"
   ]
  },
  {
   "cell_type": "code",
   "execution_count": 16,
   "metadata": {},
   "outputs": [],
   "source": [
    "# 1.2.2\n",
    "# Replacing M with 000000s\n",
    "# Using substring to remove M and typecast the data to int\n",
    "# Multiply by 1000000 after typecasting\n",
    "memory_df = memory_df.withColumn('RSIZE',\\\n",
    "                 F.when(col(\"RSIZE\").contains('M'),\\\n",
    "                        expr(\"substring(RSIZE, 1, length(RSIZE)-1)\")\\\n",
    "                        .cast('double')*1000000).otherwise(col(\"RSIZE\")))"
   ]
  },
  {
   "cell_type": "code",
   "execution_count": 17,
   "metadata": {},
   "outputs": [],
   "source": [
    "# 1.2.2\n",
    "# Replacing K with 0000s\n",
    "# Using substring to remove K and typecast the data to int\n",
    "# Multiply by 1000 after typecasting\n",
    "memory_df = memory_df.withColumn('RSIZE',\\\n",
    "                 F.when(col(\"RSIZE\").contains('K'),\\\n",
    "                        expr(\"substring(RSIZE, 1, length(RSIZE)-1)\")\\\n",
    "                        .cast('double')*1000).otherwise(col(\"RSIZE\").cast('double')))"
   ]
  },
  {
   "cell_type": "code",
   "execution_count": 18,
   "metadata": {},
   "outputs": [],
   "source": [
    "# 1.2.2\n",
    "# Removing spaces from between numbers\n",
    "memory_df = memory_df.withColumn('VGROW', regexp_replace(col('VGROW'), ' ', ''))"
   ]
  },
  {
   "cell_type": "code",
   "execution_count": 19,
   "metadata": {},
   "outputs": [],
   "source": [
    "# 1.2.2\n",
    "# Replacing K with 0000s\n",
    "# Using substring to remove K and typecast the data to int\n",
    "# Multiply by 1000 after typecasting\n",
    "memory_df = memory_df.withColumn('VGROW',\\\n",
    "                 F.when(col(\"VGROW\").contains('K'),\\\n",
    "                        expr(\"substring(VGROW, 1, length(VGROW)-1)\")\\\n",
    "                        .cast('double')*1000).otherwise(col(\"VGROW\").cast('double')))"
   ]
  },
  {
   "cell_type": "code",
   "execution_count": 20,
   "metadata": {},
   "outputs": [],
   "source": [
    "# 1.2.2\n",
    "# Replacing K with 0000s\n",
    "# Using substring to remove K and typecast the data to int\n",
    "# Multiply by 1000 after typecasting\n",
    "memory_df = memory_df.withColumn('RGROW',\\\n",
    "                 F.when(col(\"RGROW\").contains('K'),\\\n",
    "                        expr(\"substring(RGROW, 1, length(RGROW)-1)\")\\\n",
    "                        .cast('double')*1000).otherwise(col(\"RGROW\").cast('double')))"
   ]
  },
  {
   "cell_type": "code",
   "execution_count": 21,
   "metadata": {
    "scrolled": true
   },
   "outputs": [
    {
     "name": "stdout",
     "output_type": "stream",
     "text": [
      "+---+---+------+------+------+-----+-----+-----+-----+---+---+------+----+\n",
      "| ts|PID|MINFLT|MAJFLT|VSTEXT|VSIZE|RSIZE|VGROW|RGROW|MEM|CMD|attack|type|\n",
      "+---+---+------+------+------+-----+-----+-----+-----+---+---+------+----+\n",
      "|  0|  0|     0|     0|     0|    0|    0|    0|    0|  0|  0|     0|   0|\n",
      "+---+---+------+------+------+-----+-----+-----+-----+---+---+------+----+\n",
      "\n"
     ]
    }
   ],
   "source": [
    "# 1.2.2\n",
    "# checking for nulls\n",
    "check_mem = memory_df.agg(*[F.count(F.when(F.isnull(c), c)).alias(c) for c in memory_df.columns])\n",
    "check_mem.show()"
   ]
  },
  {
   "cell_type": "markdown",
   "metadata": {},
   "source": [
    "### 1.3 Exploring the data (15%)"
   ]
  },
  {
   "cell_type": "code",
   "execution_count": 22,
   "metadata": {},
   "outputs": [
    {
     "name": "stdout",
     "output_type": "stream",
     "text": [
      "Attack count for Memory Dataframe\n",
      "+------+-------+\n",
      "|attack|  Count|\n",
      "+------+-------+\n",
      "|     1| 205623|\n",
      "|     0|1794377|\n",
      "+------+-------+\n",
      "\n",
      "Type count for Memory Dataframe\n",
      "+---------+-------+\n",
      "|     type|  Count|\n",
      "+---------+-------+\n",
      "| password|  26016|\n",
      "|     ddos|  45689|\n",
      "|   normal|1794377|\n",
      "|     mitm|    112|\n",
      "|injection|  58523|\n",
      "|      dos|  75283|\n",
      "+---------+-------+\n",
      "\n"
     ]
    }
   ],
   "source": [
    "# 1.3.1\n",
    "# Groupby attack and count cases\n",
    "print(\"Attack count for Memory Dataframe\")\n",
    "memory_df.groupby('attack').agg(F.count('attack').alias('Count')).show()\n",
    "# Groupby type and count cases\n",
    "print(\"Type count for Memory Dataframe\")\n",
    "memory_df.groupby('type').agg(F.count('type').alias('Count')).show()"
   ]
  },
  {
   "cell_type": "code",
   "execution_count": 23,
   "metadata": {},
   "outputs": [
    {
     "name": "stdout",
     "output_type": "stream",
     "text": [
      "Attack count for Process Dataframe\n",
      "+------+-------+\n",
      "|attack|  Count|\n",
      "+------+-------+\n",
      "|     1| 291364|\n",
      "|     0|1636604|\n",
      "+------+-------+\n",
      "\n",
      "Type count for Process Dataframe\n",
      "+---------+-------+\n",
      "|     type|  Count|\n",
      "+---------+-------+\n",
      "|      xss|  17759|\n",
      "| password|  51409|\n",
      "| scanning|  38449|\n",
      "|     ddos|  71603|\n",
      "|   normal|1636604|\n",
      "|     mitm|    112|\n",
      "|injection|  41311|\n",
      "|      dos|  70721|\n",
      "+---------+-------+\n",
      "\n"
     ]
    }
   ],
   "source": [
    "# 1.3.1\n",
    "# Groupby attack and count cases\n",
    "print(\"Attack count for Process Dataframe\")\n",
    "process_df.groupby('attack').agg(F.count('attack').alias('Count')).show()\n",
    "# Groupby type and count cases\n",
    "print(\"Type count for Process Dataframe\")\n",
    "process_df.groupby('type').agg(F.count('type').alias('Count')).show()"
   ]
  },
  {
   "cell_type": "markdown",
   "metadata": {},
   "source": [
    "#### We can see that for both Process and Memory data the data is biased since there are very less number of attacks than the number of non-attacks. Also, the Normal type means that it is a non-attack. The number of ddos and dos type attacks are the most common types of attack and mtim is the least common attack type."
   ]
  },
  {
   "cell_type": "code",
   "execution_count": 24,
   "metadata": {
    "scrolled": true
   },
   "outputs": [
    {
     "name": "stdout",
     "output_type": "stream",
     "text": [
      "+-------+------------------+\n",
      "|summary|             RSIZE|\n",
      "+-------+------------------+\n",
      "|  count|           2000000|\n",
      "|   mean|23722.888664202153|\n",
      "| stddev|1986383.1808735176|\n",
      "|    min|           -9728.0|\n",
      "|    max|           2.244E8|\n",
      "+-------+------------------+\n",
      "\n",
      "+-------+-----------------+\n",
      "|summary|           VSTEXT|\n",
      "+-------+-----------------+\n",
      "|  count|          2000000|\n",
      "|   mean|46453.27415208929|\n",
      "| stddev|658730.2051543014|\n",
      "|    min|              0.0|\n",
      "|    max|           1.12E7|\n",
      "+-------+-----------------+\n",
      "\n",
      "+-------+------------------+\n",
      "|summary|             RGROW|\n",
      "+-------+------------------+\n",
      "|  count|           2000000|\n",
      "|   mean|483.17466254999994|\n",
      "| stddev|1491.4761059171776|\n",
      "|    min|               0.0|\n",
      "|    max|           98920.0|\n",
      "+-------+------------------+\n",
      "\n",
      "+-------+--------------------+\n",
      "|summary|                 MEM|\n",
      "+-------+--------------------+\n",
      "|  count|             2000000|\n",
      "|   mean|0.003385165000001646|\n",
      "| stddev|0.010943425779985829|\n",
      "|    min|                 0.0|\n",
      "|    max|                0.44|\n",
      "+-------+--------------------+\n",
      "\n",
      "+-------+-----------------+\n",
      "|summary|              PID|\n",
      "+-------+-----------------+\n",
      "|  count|          2000000|\n",
      "|   mean|      4999.360446|\n",
      "| stddev|4887.313351921461|\n",
      "|    min|             1007|\n",
      "|    max|            53096|\n",
      "+-------+-----------------+\n",
      "\n",
      "+-------+------------------+\n",
      "|summary|                ts|\n",
      "+-------+------------------+\n",
      "|  count|           2000000|\n",
      "|   mean|1.55624581707609E9|\n",
      "| stddev| 984463.3682882895|\n",
      "|    min|        1554216855|\n",
      "|    max|        1558355716|\n",
      "+-------+------------------+\n",
      "\n",
      "+-------+-----------------+\n",
      "|summary|            VSIZE|\n",
      "+-------+-----------------+\n",
      "|  count|          2000000|\n",
      "|   mean|4496.419966448333|\n",
      "| stddev|9046.338093399025|\n",
      "|    min|              0.0|\n",
      "|    max|          88040.0|\n",
      "+-------+-----------------+\n",
      "\n",
      "+-------+-----------------+\n",
      "|summary|            VGROW|\n",
      "+-------+-----------------+\n",
      "|  count|          2000000|\n",
      "|   mean|984.4668735599995|\n",
      "| stddev|86174.82585202316|\n",
      "|    min|       -9392000.0|\n",
      "|    max|          1.116E7|\n",
      "+-------+-----------------+\n",
      "\n",
      "+-------+-------------------+\n",
      "|summary|             MAJFLT|\n",
      "+-------+-------------------+\n",
      "|  count|            2000000|\n",
      "|   mean|  987846.5873270722|\n",
      "| stddev|1.484287423809903E7|\n",
      "|    min|                0.0|\n",
      "|    max|            2.244E8|\n",
      "+-------+-------------------+\n",
      "\n",
      "+-------+------------------+\n",
      "|summary|            MINFLT|\n",
      "+-------+------------------+\n",
      "|  count|           2000000|\n",
      "|   mean|        983.344344|\n",
      "| stddev|19229.610980642246|\n",
      "|    min|                 0|\n",
      "|    max|           8050000|\n",
      "+-------+------------------+\n",
      "\n"
     ]
    }
   ],
   "source": [
    "# 1.3.2\n",
    "# Displaying basic statistics for numerical columns for memory dataframe\n",
    "cols = {'ts', 'PID', 'MINFLT', 'MAJFLT', 'VSTEXT', 'VSIZE', 'RSIZE', 'VGROW', 'RGROW', 'MEM'}\n",
    "for column in cols:\n",
    "    memory_df.describe(column).show()"
   ]
  },
  {
   "cell_type": "code",
   "execution_count": 25,
   "metadata": {},
   "outputs": [
    {
     "name": "stdout",
     "output_type": "stream",
     "text": [
      "+----------+------+\n",
      "|       CMD| Count|\n",
      "+----------+------+\n",
      "|      atop|325985|\n",
      "|   apache2| 89761|\n",
      "| jfsCommit| 81714|\n",
      "|  vmtoolsd| 77871|\n",
      "|      Xorg| 49981|\n",
      "|  nautilus| 48356|\n",
      "|irqbalance| 44387|\n",
      "|    compiz| 44356|\n",
      "|  ostinato| 43024|\n",
      "|     drone| 41392|\n",
      "+----------+------+\n",
      "only showing top 10 rows\n",
      "\n"
     ]
    }
   ],
   "source": [
    "# 1.3.2\n",
    "# Diplaying the top 10 counts for CMD column in Memory dataframe\n",
    "memory_df.groupby('CMD').agg(F.count('CMD').alias('Count')).sort(\"Count\", ascending=False).show(10)"
   ]
  },
  {
   "cell_type": "code",
   "execution_count": 26,
   "metadata": {
    "scrolled": true
   },
   "outputs": [
    {
     "name": "stdout",
     "output_type": "stream",
     "text": [
      "+-------+-----------------+\n",
      "|summary|             NICE|\n",
      "+-------+-----------------+\n",
      "|  count|          1927968|\n",
      "|   mean|4.634469555511295|\n",
      "| stddev|8.403189864752083|\n",
      "|    min|                0|\n",
      "|    max|               20|\n",
      "+-------+-----------------+\n",
      "\n",
      "+-------+--------------------+\n",
      "|summary|               TSLPU|\n",
      "+-------+--------------------+\n",
      "|  count|             1927968|\n",
      "|   mean|3.610018423542299...|\n",
      "| stddev| 0.04421874419214598|\n",
      "|    min|                   0|\n",
      "|    max|                  21|\n",
      "+-------+--------------------+\n",
      "\n",
      "+-------+-------------------+\n",
      "|summary|               TRUN|\n",
      "+-------+-------------------+\n",
      "|  count|            1927968|\n",
      "|   mean| 0.0632287465352122|\n",
      "| stddev|0.24782587090416033|\n",
      "|    min|                  0|\n",
      "|    max|                 12|\n",
      "+-------+-------------------+\n",
      "\n",
      "+-------+-----------------+\n",
      "|summary|              PID|\n",
      "+-------+-----------------+\n",
      "|  count|          1927968|\n",
      "|   mean|5068.709770597852|\n",
      "| stddev|4987.784329320444|\n",
      "|    min|             1007|\n",
      "|    max|            53080|\n",
      "+-------+-----------------+\n",
      "\n",
      "+-------+-------+\n",
      "|summary|   RTPR|\n",
      "+-------+-------+\n",
      "|  count|1927968|\n",
      "|   mean|    0.0|\n",
      "| stddev|    0.0|\n",
      "|    min|      0|\n",
      "|    max|      0|\n",
      "+-------+-------+\n",
      "\n",
      "+-------+--------------------+\n",
      "|summary|                  ts|\n",
      "+-------+--------------------+\n",
      "|  count|             1927968|\n",
      "|   mean|1.5563198311840394E9|\n",
      "| stddev|   771350.0248117658|\n",
      "|    min|          1554216855|\n",
      "|    max|          1557593017|\n",
      "+-------+--------------------+\n",
      "\n",
      "+-------+------------------+\n",
      "|summary|               PRI|\n",
      "+-------+------------------+\n",
      "|  count|           1927968|\n",
      "|   mean|111.26826741937626|\n",
      "| stddev|22.624445062102787|\n",
      "|    min|                 0|\n",
      "|    max|               139|\n",
      "+-------+------------------+\n",
      "\n",
      "+-------+-----------------+\n",
      "|summary|            TSLPI|\n",
      "+-------+-----------------+\n",
      "|  count|          1927968|\n",
      "|   mean|3.508334163222626|\n",
      "| stddev|6.988459728531791|\n",
      "|    min|                0|\n",
      "|    max|               70|\n",
      "+-------+-----------------+\n",
      "\n",
      "+-------+------------------+\n",
      "|summary|             CPUNR|\n",
      "+-------+------------------+\n",
      "|  count|           1927968|\n",
      "|   mean|1.9210142491991569|\n",
      "| stddev|1.5274047225902976|\n",
      "|    min|                 0|\n",
      "|    max|                 5|\n",
      "+-------+------------------+\n",
      "\n",
      "+-------+--------------------+\n",
      "|summary|                 EXC|\n",
      "+-------+--------------------+\n",
      "|  count|             1927968|\n",
      "|   mean|0.030275398761805176|\n",
      "| stddev|  1.4619498567691895|\n",
      "|    min|                   0|\n",
      "|    max|                 127|\n",
      "+-------+--------------------+\n",
      "\n",
      "+-------+--------------------+\n",
      "|summary|                 CPU|\n",
      "+-------+--------------------+\n",
      "|  count|             1927968|\n",
      "|   mean|0.022385272992092243|\n",
      "| stddev|  0.1362894368718421|\n",
      "|    min|                 0.0|\n",
      "|    max|                4.02|\n",
      "+-------+--------------------+\n",
      "\n"
     ]
    }
   ],
   "source": [
    "# 1.3.2\n",
    "# Displaying basic statistics for numerical columns for process dataframe\n",
    "cols = {'ts', 'PID', 'TRUN' , 'TSLPI', 'TSLPU', 'NICE', 'PRI', 'RTPR', 'CPUNR', 'EXC', 'CPU'}\n",
    "for column in cols:\n",
    "    process_df.describe(column).show()"
   ]
  },
  {
   "cell_type": "code",
   "execution_count": 27,
   "metadata": {
    "scrolled": true
   },
   "outputs": [
    {
     "name": "stdout",
     "output_type": "stream",
     "text": [
      "+----+-------+\n",
      "|POLI|  Count|\n",
      "+----+-------+\n",
      "|norm|1861558|\n",
      "|   0|  53216|\n",
      "|   -|  13194|\n",
      "+----+-------+\n",
      "\n",
      "+------+-------+\n",
      "|Status|  Count|\n",
      "+------+-------+\n",
      "|     -|1416322|\n",
      "|     0| 438984|\n",
      "|    NE|  48602|\n",
      "|     N|  23313|\n",
      "|    NS|    743|\n",
      "|     C|      3|\n",
      "|    NC|      1|\n",
      "+------+-------+\n",
      "\n",
      "+-----+-------+\n",
      "|State|  Count|\n",
      "+-----+-------+\n",
      "|    S|1676350|\n",
      "|    I|  98986|\n",
      "|    R|  84753|\n",
      "|    E|  66410|\n",
      "|    Z|   1118|\n",
      "|    D|    344|\n",
      "|    T|      7|\n",
      "+-----+-------+\n",
      "\n",
      "+--------------+------+\n",
      "|           CMD| Count|\n",
      "+--------------+------+\n",
      "|          atop|441180|\n",
      "|       apache2|313143|\n",
      "|      vmtoolsd|112029|\n",
      "|          Xorg| 66813|\n",
      "|      nautilus| 63449|\n",
      "|gnome-terminal| 47628|\n",
      "|        compiz| 44386|\n",
      "|    irqbalance| 44324|\n",
      "|      ostinato| 42979|\n",
      "|         drone| 41390|\n",
      "+--------------+------+\n",
      "only showing top 10 rows\n",
      "\n"
     ]
    }
   ],
   "source": [
    "# 1.3.2\n",
    "# Diplaying the top 10 counts for POLI, Status, State abd CMD column in Process dataframe\n",
    "process_df.groupby('POLI').agg(F.count('POLI').alias('Count')).sort(\"Count\", ascending=False).show(10)\n",
    "process_df.groupby('Status').agg(F.count('Status').alias('Count')).sort(\"Count\", ascending=False).show(10)\n",
    "process_df.groupby('State').agg(F.count('State').alias('Count')).sort(\"Count\", ascending=False).show(10)\n",
    "process_df.groupby('CMD').agg(F.count('CMD').alias('Count')).sort(\"Count\", ascending=False).show(10)"
   ]
  },
  {
   "cell_type": "code",
   "execution_count": 28,
   "metadata": {},
   "outputs": [
    {
     "data": {
      "image/png": "[encoded data removed]",
      "text/plain": [
       "<Figure size 864x864 with 2 Axes>"
      ]
     },
     "metadata": {
      "needs_background": "light"
     },
     "output_type": "display_data"
    }
   ],
   "source": [
    "# 1.3.3\n",
    "# converting both memory and process data to pandas df for visualization\n",
    "pan_memory = memory_df.toPandas()\n",
    "pan_process = process_df.toPandas()\n",
    "a = pan_memory.corr()\n",
    "b = pan_process.corr()\n",
    "b = b.drop('RTPR', axis=1)\n",
    "b = b.drop('RTPR', axis=0)\n",
    "corr_features = a.index\n",
    "plt.figure(figsize=(12,12))\n",
    "# Plot correlation heat map for memory df\n",
    "g = sns.heatmap(pan_memory[corr_features].corr(), annot=True, cmap=\"RdYlGn\")"
   ]
  },
  {
   "cell_type": "markdown",
   "metadata": {},
   "source": [
    "#### Here we observe that the correlation coefficient of attack with all the other variables is quite low for the memory dataframe. A few of the variables like MAJFLT, VGROW etc. are highly correlated with the other variables."
   ]
  },
  {
   "cell_type": "code",
   "execution_count": 29,
   "metadata": {
    "scrolled": false
   },
   "outputs": [
    {
     "data": {
      "image/png": "[encoded data removed]",
      "text/plain": [
       "<Figure size 864x864 with 2 Axes>"
      ]
     },
     "metadata": {
      "needs_background": "light"
     },
     "output_type": "display_data"
    }
   ],
   "source": [
    "# 1.3.3\n",
    "corr_features = b.index\n",
    "plt.figure(figsize=(12,12))\n",
    "# Plot correlation heat map for process df\n",
    "g = sns.heatmap(pan_process[corr_features].corr(), annot=True, cmap=\"RdYlGn\")"
   ]
  },
  {
   "cell_type": "markdown",
   "metadata": {},
   "source": [
    "#### Here we observe that the correlation coefficient of attack with all the other variables is quite low for the memory dataframe. Unlike memory dataframe we do not observe any high correlation among the variables of the process dataframe."
   ]
  },
  {
   "cell_type": "code",
   "execution_count": 30,
   "metadata": {
    "scrolled": true
   },
   "outputs": [
    {
     "data": {
      "text/plain": [
       "<AxesSubplot:xlabel='attack', ylabel='VGROW'>"
      ]
     },
     "execution_count": 30,
     "metadata": {},
     "output_type": "execute_result"
    },
    {
     "data": {
      "image/png": "[encoded data removed]",
      "text/plain": [
       "<Figure size 864x720 with 1 Axes>"
      ]
     },
     "metadata": {},
     "output_type": "display_data"
    }
   ],
   "source": [
    "# 1.3.3\n",
    "# Boxplot attack vs VGROW\n",
    "sns.set(font_scale=1.6, rc={'figure.figsize':(12, 10)})\n",
    "sns.boxplot(x='attack', y='VGROW', data=pan_memory)"
   ]
  },
  {
   "cell_type": "markdown",
   "metadata": {},
   "source": [
    "#### Majority of the data for VGROW is scattered around 0 with multiple outliers. Distingishing between classes using just a single variable seems to be impossible."
   ]
  },
  {
   "cell_type": "code",
   "execution_count": 31,
   "metadata": {},
   "outputs": [
    {
     "data": {
      "image/png": "[encoded data removed]",
      "text/plain": [
       "<Figure size 864x720 with 1 Axes>"
      ]
     },
     "metadata": {},
     "output_type": "display_data"
    }
   ],
   "source": [
    "# 1.3.3\n",
    "# Histogram of Status with attacks and non-attacks\n",
    "sns.countplot(x=\"Status\", hue=\"attack\", data=pan_process)\n",
    "plt.yscale('log')"
   ]
  },
  {
   "cell_type": "markdown",
   "metadata": {},
   "source": [
    "#### We observe that the variables status doesn't differentiate much among the classes attack and non-attack and therefore we cannot say that a particular status will cause an attack or not."
   ]
  },
  {
   "cell_type": "markdown",
   "metadata": {},
   "source": [
    "## 2. Feature extraction and ML training (55%)\n",
    "### 2.1 Preparing the training data and testing data (4%)"
   ]
  },
  {
   "cell_type": "code",
   "execution_count": 32,
   "metadata": {},
   "outputs": [],
   "source": [
    "# 2.1.1\n",
    "# Splitting data into train and test for both datasets\n",
    "train_mem, test_mem = memory_df.randomSplit([0.8, 0.2], seed=30192)\n",
    "train_pro, test_pro = process_df.randomSplit([0.8, 0.2], seed = 30192)"
   ]
  },
  {
   "cell_type": "code",
   "execution_count": 33,
   "metadata": {},
   "outputs": [
    {
     "data": {
      "text/plain": [
       "32790"
      ]
     },
     "execution_count": 33,
     "metadata": {},
     "output_type": "execute_result"
    }
   ],
   "source": [
    "# 2.1.2\n",
    "# Count of 20% attacks in memory training data \n",
    "train_mem.sampleBy(\"attack\", fractions={0: 0, 1: 0.2}, seed=30192).count()"
   ]
  },
  {
   "cell_type": "code",
   "execution_count": 34,
   "metadata": {},
   "outputs": [
    {
     "name": "stdout",
     "output_type": "stream",
     "text": [
      "+------+-------+\n",
      "|attack|  Count|\n",
      "+------+-------+\n",
      "|     1| 164306|\n",
      "|     0|1435206|\n",
      "+------+-------+\n",
      "\n"
     ]
    }
   ],
   "source": [
    "# 2.1.2\n",
    "# Count of original attacks and non-attacks\n",
    "train_mem.groupby('attack').agg(F.count('attack').alias('Count')).show()"
   ]
  },
  {
   "cell_type": "code",
   "execution_count": 35,
   "metadata": {},
   "outputs": [
    {
     "name": "stdout",
     "output_type": "stream",
     "text": [
      "+------+-----+\n",
      "|attack|Count|\n",
      "+------+-----+\n",
      "|     1|32790|\n",
      "|     0|65659|\n",
      "+------+-----+\n",
      "\n"
     ]
    }
   ],
   "source": [
    "# 2.1.2\n",
    "# Balanced data with 1:2 ratio for attacks and non-attacks\n",
    "# 0.046 = 32790*2/1435206\n",
    "sampled_mem = train_mem.sampleBy(\"attack\", fractions={0: 0.046, 1: 0.2}, seed=30192)\n",
    "sampled_mem.groupby('attack').agg(F.count('attack').alias('Count')).show()"
   ]
  },
  {
   "cell_type": "code",
   "execution_count": 36,
   "metadata": {},
   "outputs": [
    {
     "data": {
      "text/plain": [
       "46299"
      ]
     },
     "execution_count": 36,
     "metadata": {},
     "output_type": "execute_result"
    }
   ],
   "source": [
    "# 2.1.2\n",
    "# Count of 20% attacks in process training data \n",
    "train_pro.sampleBy(\"attack\", fractions={0: 0, 1: 0.2}, seed=30192).count()"
   ]
  },
  {
   "cell_type": "code",
   "execution_count": 37,
   "metadata": {},
   "outputs": [
    {
     "name": "stdout",
     "output_type": "stream",
     "text": [
      "+------+-------+\n",
      "|attack|  Count|\n",
      "+------+-------+\n",
      "|     1| 232969|\n",
      "|     0|1308726|\n",
      "+------+-------+\n",
      "\n"
     ]
    }
   ],
   "source": [
    "# 2.1.2\n",
    "# Count of original attacks and non-attacks\n",
    "train_pro.groupby('attack').agg(F.count('attack').alias('Count')).show()"
   ]
  },
  {
   "cell_type": "code",
   "execution_count": 38,
   "metadata": {},
   "outputs": [
    {
     "name": "stdout",
     "output_type": "stream",
     "text": [
      "+------+-----+\n",
      "|attack|Count|\n",
      "+------+-----+\n",
      "|     1|46299|\n",
      "|     0|92647|\n",
      "+------+-----+\n",
      "\n"
     ]
    }
   ],
   "source": [
    "# 2.1.2\n",
    "# Balanced data with 1:2 ratio for attacks and non-attacks\n",
    "# 0.071 = 46299*2/1308726\n",
    "sampled_pro = train_pro.sampleBy(\"attack\", fractions={0: 0.071, 1: 0.2}, seed=30192)\n",
    "sampled_pro.groupby('attack').agg(F.count('attack').alias('Count')).show()"
   ]
  },
  {
   "cell_type": "code",
   "execution_count": 39,
   "metadata": {},
   "outputs": [
    {
     "data": {
      "text/plain": [
       "DataFrame[ts: int, PID: int, MINFLT: int, MAJFLT: double, VSTEXT: double, VSIZE: double, RSIZE: double, VGROW: double, RGROW: double, MEM: double, CMD: string, attack: int, type: string]"
      ]
     },
     "execution_count": 39,
     "metadata": {},
     "output_type": "execute_result"
    }
   ],
   "source": [
    "# 2.1.2\n",
    "# caching the dataframes for fast access\n",
    "sampled_pro.cache()\n",
    "sampled_mem.cache()"
   ]
  },
  {
   "cell_type": "markdown",
   "metadata": {},
   "source": [
    "### 2.2 Preparing features, labels and models (16%)"
   ]
  },
  {
   "cell_type": "markdown",
   "metadata": {},
   "source": [
    "#### 2.2.1\n",
    "#### Looking at the correlation plot for memory data we can exclude the variables MAJFLT and VGROW from the training models. Also, the variables ts, PID and type can be dropped from our analysis.\n",
    "#### Looking at the correlation plot for process data we observe that none of the variables are correlated with the attacks. Therefore, we exclude the variables ts, PID and type from our analysis."
   ]
  },
  {
   "cell_type": "code",
   "execution_count": 40,
   "metadata": {},
   "outputs": [],
   "source": [
    "# Defining the decision tree classifier\n",
    "decisionTree = DecisionTreeClassifier(featuresCol='features', labelCol='attack', maxDepth = 3)\n",
    "# Defining the Gradient Boosted Tree classifier\n",
    "gradientTree = GBTClassifier(featuresCol='features', labelCol='attack', maxIter = 5)"
   ]
  },
  {
   "cell_type": "code",
   "execution_count": 41,
   "metadata": {},
   "outputs": [],
   "source": [
    "# 2.2.2\n",
    "# Defining the string indexer \n",
    "inputIndexer = StringIndexer(inputCols=['CMD'], outputCols=['CMD_index']).setHandleInvalid(\"keep\")\n",
    "# Defining OHE\n",
    "encoder = OneHotEncoder(inputCols=['CMD_index'], outputCols=['CMD_vec'])\n",
    "# Columns with datatype integer or double\n",
    "numericCols = ['MINFLT', 'VSTEXT', 'VSIZE', 'RSIZE', 'RGROW', 'MEM']\n",
    "# Combining the numerical and categorical columns\n",
    "assemblerInputs = ['CMD_vec'] + numericCols\n",
    "# Defining the vector assembler\n",
    "assembler = VectorAssembler(inputCols=assemblerInputs, outputCol=\"features\")"
   ]
  },
  {
   "cell_type": "code",
   "execution_count": 42,
   "metadata": {},
   "outputs": [],
   "source": [
    "# 2.2.3\n",
    "# Initializing stages for pipelining\n",
    "stage_1 = inputIndexer\n",
    "stage_2 = encoder\n",
    "stage_3 = assembler\n",
    "stage_4A = decisionTree\n",
    "stage_4B = gradientTree\n",
    "stages_dt = [stage_1,stage_2,stage_3,stage_4A]\n",
    "stages_gbt = [stage_1,stage_2,stage_3,stage_4B]\n",
    "# Defining the pipelines\n",
    "pipe_mem_dt = Pipeline(stages = stages_dt)\n",
    "pipe_mem_gbt = Pipeline(stages = stages_gbt)"
   ]
  },
  {
   "cell_type": "code",
   "execution_count": 43,
   "metadata": {},
   "outputs": [],
   "source": [
    "# 2.2.2\n",
    "# Defining the string indexer \n",
    "inputIndexer = StringIndexer(inputCols=['POLI', 'Status', 'CMD'], outputCols=['POLI_index', 'Status_index', 'CMD_index']).setHandleInvalid(\"keep\")\n",
    "# Defining OHE\n",
    "encoder = OneHotEncoder(inputCols=['POLI_index', 'Status_index', 'CMD_index'], outputCols=['POLI_vec', 'Status_vec', 'CMD_vec'])\n",
    "# Columns with datatype integer or double\n",
    "numericInputCols = ['TRUN', 'NICE', 'PRI', 'RTPR', 'CPUNR', 'CPU']\n",
    "# Defining the vector assembler\n",
    "inputCols=['POLI_vec', 'Status_vec', 'CMD_vec']\n",
    "assemblerInputs = inputCols + numericInputCols\n",
    "assembler = VectorAssembler(inputCols=assemblerInputs, outputCol=\"features\")"
   ]
  },
  {
   "cell_type": "code",
   "execution_count": 44,
   "metadata": {},
   "outputs": [],
   "source": [
    "# 2.2.3\n",
    "# Initializing stages for pipelining\n",
    "stage_1 = inputIndexer\n",
    "stage_2 = encoder\n",
    "stage_3 = assembler\n",
    "stage_4A = decisionTree\n",
    "stage_4B = gradientTree\n",
    "stages_dt = [stage_1,stage_2,stage_3,stage_4A]\n",
    "stages_gbt = [stage_1,stage_2,stage_3,stage_4B]\n",
    "# Defining the pipeline\n",
    "pipe_pro_dt = Pipeline(stages = stages_dt)\n",
    "pipe_pro_gbt = Pipeline(stages = stages_gbt)"
   ]
  },
  {
   "cell_type": "markdown",
   "metadata": {},
   "source": [
    "### 2.3 Training and evaluating models (35%)"
   ]
  },
  {
   "cell_type": "code",
   "execution_count": 45,
   "metadata": {},
   "outputs": [],
   "source": [
    "# 2.3.1\n",
    "# Fitting the model to train data for memory dataset\n",
    "mem_dt = pipe_mem_dt.fit(sampled_mem)\n",
    "# Prediction for the test data using decision tree classifier\n",
    "pred_mem_dt = mem_dt.transform(test_mem)"
   ]
  },
  {
   "cell_type": "code",
   "execution_count": 46,
   "metadata": {},
   "outputs": [],
   "source": [
    "# 2.3.1\n",
    "# Fitting the model to train data for memory dataset\n",
    "mem_gbt = pipe_mem_gbt.fit(sampled_mem)\n",
    "# Prediction for the test data using gradient boosted tree classifier\n",
    "pred_mem_gbt = mem_gbt.transform(test_mem)"
   ]
  },
  {
   "cell_type": "code",
   "execution_count": 47,
   "metadata": {},
   "outputs": [],
   "source": [
    "# 2.3.1\n",
    "# Fitting the model to train data for process dataset\n",
    "pro_dt = pipe_pro_dt.fit(sampled_pro)\n",
    "# Prediction for the test data using decision tree classifier\n",
    "pred_pro_dt = pro_dt.transform(test_pro)"
   ]
  },
  {
   "cell_type": "code",
   "execution_count": 48,
   "metadata": {},
   "outputs": [],
   "source": [
    "# 2.3.1\n",
    "# Fitting the model to train data for process dataset\n",
    "pro_gbt = pipe_pro_gbt.fit(sampled_pro)\n",
    "# Prediction for the test data using decision tree classifier\n",
    "pred_pro_gbt = pro_gbt.transform(test_pro)"
   ]
  },
  {
   "cell_type": "code",
   "execution_count": 49,
   "metadata": {},
   "outputs": [],
   "source": [
    "# 2.3.2 and 2.3.3 and 2.3.4\n",
    "# Defining a function that prints the model summary stats \n",
    "def model_eval(pred_df):\n",
    "    # True negatives \n",
    "    TN = pred_df.filter('prediction = 0 AND attack = 0').count()\n",
    "    # True positives\n",
    "    TP = pred_df.filter('prediction = 1 AND attack = 1').count()\n",
    "    # False positives\n",
    "    FP = pred_df.filter('prediction = 1 AND attack = 0').count()\n",
    "    # False negatives\n",
    "    FN = pred_df.filter('prediction = 0 AND attack = 1').count()\n",
    "    # Summary stats\n",
    "    accuracy = (TN+TP)/(TN+TP+FN+FP)\n",
    "    precision = TP/(TP+FP)\n",
    "    recall = TP/(TP+FN)\n",
    "    f1 = 2*((precision*recall)/(precision+recall))\n",
    "    # AUC evaluator\n",
    "    evaluator = BinaryClassificationEvaluator(rawPredictionCol=\"rawPrediction\", labelCol = 'attack')\n",
    "    # Confusion matrix\n",
    "    pred_df.groupBy('attack', 'prediction').count().show()\n",
    "    print(\"Summary Stats\")\n",
    "    print(\"Accuracy = %s\" % accuracy)\n",
    "    print(\"Precision = %s\" % precision)\n",
    "    print(\"Recall = %s\" % recall)\n",
    "    print(\"F1 Score = %s\" % f1)\n",
    "    print(\"Area Under ROC(AUC): \" + str(evaluator.evaluate(pred_df, {evaluator.metricName: \"areaUnderROC\"})))"
   ]
  },
  {
   "cell_type": "code",
   "execution_count": 50,
   "metadata": {
    "scrolled": true
   },
   "outputs": [
    {
     "name": "stdout",
     "output_type": "stream",
     "text": [
      "Confusion matrix and Summary Stats for Decision Tree - Memory Data\n",
      "+------+----------+------+\n",
      "|attack|prediction| count|\n",
      "+------+----------+------+\n",
      "|     1|       0.0| 31375|\n",
      "|     0|       0.0|336386|\n",
      "|     1|       1.0|  9942|\n",
      "|     0|       1.0| 22785|\n",
      "+------+----------+------+\n",
      "\n",
      "Summary Stats\n",
      "Accuracy = 0.8647649867162063\n",
      "Precision = 0.3037858648822074\n",
      "Recall = 0.2406273446765254\n",
      "F1 Score = 0.26854302846955863\n",
      "Area Under ROC(AUC): 0.38511418866942493\n"
     ]
    }
   ],
   "source": [
    "# 2.3.2 and 2.3.3 \n",
    "print(\"Confusion matrix and Summary Stats for Decision Tree - Memory Data\")\n",
    "model_eval(pred_mem_dt)"
   ]
  },
  {
   "cell_type": "code",
   "execution_count": 51,
   "metadata": {},
   "outputs": [
    {
     "name": "stdout",
     "output_type": "stream",
     "text": [
      "Confusion matrix and Summary Stats for Gradient Boosted Tree - Memory Data\n",
      "+------+----------+------+\n",
      "|attack|prediction| count|\n",
      "+------+----------+------+\n",
      "|     1|       0.0| 26622|\n",
      "|     0|       0.0|332520|\n",
      "|     1|       1.0| 14695|\n",
      "|     0|       1.0| 26651|\n",
      "+------+----------+------+\n",
      "\n",
      "Summary Stats\n",
      "Accuracy = 0.8669797846627115\n",
      "Precision = 0.35541527596381756\n",
      "Recall = 0.3556647384853692\n",
      "F1 Score = 0.3555399634661215\n",
      "Area Under ROC(AUC): 0.8000770744648162\n"
     ]
    }
   ],
   "source": [
    "# 2.3.2 and 2.3.3\n",
    "print(\"Confusion matrix and Summary Stats for Gradient Boosted Tree - Memory Data\")\n",
    "model_eval(pred_mem_gbt)"
   ]
  },
  {
   "cell_type": "code",
   "execution_count": 52,
   "metadata": {},
   "outputs": [
    {
     "name": "stdout",
     "output_type": "stream",
     "text": [
      "Confusion matrix and Summary Stats for Decison Tree - Process Data\n",
      "+------+----------+------+\n",
      "|attack|prediction| count|\n",
      "+------+----------+------+\n",
      "|     1|       0.0| 38424|\n",
      "|     0|       0.0|292078|\n",
      "|     1|       1.0| 19971|\n",
      "|     0|       1.0| 35800|\n",
      "+------+----------+------+\n",
      "\n",
      "Summary Stats\n",
      "Accuracy = 0.807845746402156\n",
      "Precision = 0.3580893295798892\n",
      "Recall = 0.3419984587721551\n",
      "F1 Score = 0.34985897727869947\n",
      "Area Under ROC(AUC): 0.38715437821218174\n"
     ]
    }
   ],
   "source": [
    "# 2.3.2 and 2.3.3\n",
    "print(\"Confusion matrix and Summary Stats for Decison Tree - Process Data\")\n",
    "model_eval(pred_pro_dt)"
   ]
  },
  {
   "cell_type": "code",
   "execution_count": 53,
   "metadata": {
    "scrolled": true
   },
   "outputs": [
    {
     "name": "stdout",
     "output_type": "stream",
     "text": [
      "Confusion matrix and Summary Stats for Gradient Boosted Tree - Process Data\n",
      "+------+----------+------+\n",
      "|attack|prediction| count|\n",
      "+------+----------+------+\n",
      "|     1|       0.0| 37123|\n",
      "|     0|       0.0|291332|\n",
      "|     1|       1.0| 21272|\n",
      "|     0|       1.0| 36546|\n",
      "+------+----------+------+\n",
      "\n",
      "Summary Stats\n",
      "Accuracy = 0.8092825540485615\n",
      "Precision = 0.36791310664498944\n",
      "Recall = 0.3642777635071496\n",
      "F1 Score = 0.3660864102983315\n",
      "Area Under ROC(AUC): 0.7176007029895348\n"
     ]
    }
   ],
   "source": [
    "# 2.3.2 and 2.3.3\n",
    "print(\"Confusion matrix and Summary Stats for Gradient Boosted Tree - Process Data\")\n",
    "model_eval(pred_pro_gbt)"
   ]
  },
  {
   "cell_type": "markdown",
   "metadata": {},
   "source": [
    "#### 2.3.3\n",
    "#### We observe that our models are good at predicting the TRUE NEGATIVES but doesn't perform well at predicting the TRUE POSITIVES. Therefore, we should use a balanced metric such as F1 score to evaluate the model to identify the attacks."
   ]
  },
  {
   "cell_type": "code",
   "execution_count": 54,
   "metadata": {},
   "outputs": [
    {
     "name": "stdout",
     "output_type": "stream",
     "text": [
      "DecisionTreeClassificationModel: uid=DecisionTreeClassifier_1aba22f4c826, depth=3, numNodes=11, numClasses=2, numFeatures=427\n",
      "  If (feature 424 <= 2614.0)\n",
      "   If (feature 422 <= 5542.0)\n",
      "    Predict: 0.0\n",
      "   Else (feature 422 > 5542.0)\n",
      "    If (feature 421 <= 887.5)\n",
      "     Predict: 0.0\n",
      "    Else (feature 421 > 887.5)\n",
      "     Predict: 1.0\n",
      "  Else (feature 424 > 2614.0)\n",
      "   If (feature 423 <= 2.95)\n",
      "    Predict: 0.0\n",
      "   Else (feature 423 > 2.95)\n",
      "    If (feature 423 <= 625.8499999999999)\n",
      "     Predict: 1.0\n",
      "    Else (feature 423 > 625.8499999999999)\n",
      "     Predict: 0.0\n",
      "\n",
      "[('CMD_vec', 0.0), ('MINFLT', 0.0), ('VSTEXT', 0.0), ('VSIZE', 0.0), ('RSIZE', 0.0), ('RGROW', 0.0), ('MEM', 0.0)]\n"
     ]
    }
   ],
   "source": [
    "# 2.3.4 \n",
    "va = mem_dt.stages[-2]\n",
    "tree = mem_dt.stages[-1]\n",
    "print(tree.toDebugString)\n",
    "print(list(zip(va.getInputCols(), tree.featureImportances)))"
   ]
  },
  {
   "cell_type": "code",
   "execution_count": 55,
   "metadata": {},
   "outputs": [
    {
     "name": "stdout",
     "output_type": "stream",
     "text": [
      "GBTClassificationModel: uid = GBTClassifier_bf7444b3a359, numTrees=5, numClasses=2, numFeatures=427\n",
      "  Tree 0 (weight 1.0):\n",
      "    If (feature 424 <= 2726.0)\n",
      "     If (feature 422 <= 4932.0)\n",
      "      If (feature 423 <= 19038.0)\n",
      "       If (feature 421 <= 7.5)\n",
      "        If (feature 6 in {0.0})\n",
      "         Predict: -0.7484218771598397\n",
      "        Else (feature 6 not in {0.0})\n",
      "         Predict: 0.6954732510288066\n",
      "       Else (feature 421 > 7.5)\n",
      "        If (feature 421 <= 1954.5)\n",
      "         Predict: -0.28255576117658515\n",
      "        Else (feature 421 > 1954.5)\n",
      "         Predict: -0.7701666496268276\n",
      "      Else (feature 423 > 19038.0)\n",
      "       If (feature 424 <= 814.0)\n",
      "        If (feature 422 <= 61.0)\n",
      "         Predict: -0.9504814305364512\n",
      "        Else (feature 422 > 61.0)\n",
      "         Predict: -0.18717201166180758\n",
      "       Else (feature 424 > 814.0)\n",
      "        If (feature 422 <= 317.5)\n",
      "         Predict: 0.45804847731510256\n",
      "        Else (feature 422 > 317.5)\n",
      "         Predict: -0.16421895861148197\n",
      "     Else (feature 422 > 4932.0)\n",
      "      If (feature 421 <= 920.5)\n",
      "       If (feature 425 <= 418.0)\n",
      "        If (feature 0 in {1.0})\n",
      "         Predict: -0.32241250930752047\n",
      "        Else (feature 0 not in {1.0})\n",
      "         Predict: -0.015993265993265993\n",
      "       Else (feature 425 > 418.0)\n",
      "        If (feature 102 in {0.0})\n",
      "         Predict: -0.5984644913627639\n",
      "        Else (feature 102 not in {0.0})\n",
      "         Predict: 1.0\n",
      "      Else (feature 421 > 920.5)\n",
      "       Predict: 0.9765567765567765\n",
      "    Else (feature 424 > 2726.0)\n",
      "     If (feature 423 <= 2.95)\n",
      "      If (feature 424 <= 21692.0)\n",
      "       If (feature 423 <= 1.15)\n",
      "        If (feature 425 <= 82.0)\n",
      "         Predict: 0.18181818181818182\n",
      "        Else (feature 425 > 82.0)\n",
      "         Predict: 0.9047619047619048\n",
      "       Else (feature 423 > 1.15)\n",
      "        If (feature 426 <= 0.005)\n",
      "         Predict: -0.9788617886178862\n",
      "        Else (feature 426 > 0.005)\n",
      "         Predict: -0.6875\n",
      "      Else (feature 424 > 21692.0)\n",
      "       If (feature 423 <= 2.45)\n",
      "        If (feature 424 <= 30558.0)\n",
      "         Predict: -0.9979445015416238\n",
      "        Else (feature 424 > 30558.0)\n",
      "         Predict: -0.12453843571668345\n",
      "       Else (feature 423 > 2.45)\n",
      "        If (feature 8 in {1.0})\n",
      "         Predict: 0.43383947939262474\n",
      "        Else (feature 8 not in {1.0})\n",
      "         Predict: 0.6231884057971014\n",
      "     Else (feature 423 > 2.95)\n",
      "      If (feature 423 <= 624.7)\n",
      "       If (feature 423 <= 191.64999999999998)\n",
      "        If (feature 1 in {0.0})\n",
      "         Predict: 0.3583916083916084\n",
      "        Else (feature 1 not in {0.0})\n",
      "         Predict: 0.6411181244364292\n",
      "       Else (feature 423 > 191.64999999999998)\n",
      "        If (feature 424 <= 16784.0)\n",
      "         Predict: 0.023804595321879528\n",
      "        Else (feature 424 > 16784.0)\n",
      "         Predict: 0.3711497407746264\n",
      "      Else (feature 423 > 624.7)\n",
      "       If (feature 422 <= 1814.0)\n",
      "        If (feature 10 in {1.0})\n",
      "         Predict: -0.6145203111495247\n",
      "        Else (feature 10 not in {1.0})\n",
      "         Predict: 0.10196779964221825\n",
      "       Else (feature 422 > 1814.0)\n",
      "        If (feature 142 in {0.0})\n",
      "         Predict: -1.0\n",
      "        Else (feature 142 not in {0.0})\n",
      "         Predict: -0.5714285714285714\n",
      "  Tree 1 (weight 0.1):\n",
      "    If (feature 421 <= 1959.5)\n",
      "     If (feature 421 <= 1954.5)\n",
      "      If (feature 421 <= 920.5)\n",
      "       If (feature 3 in {1.0})\n",
      "        Predict: -0.7315869543165026\n",
      "       Else (feature 3 not in {1.0})\n",
      "        If (feature 38 in {0.0})\n",
      "         Predict: -0.10419729704602582\n",
      "        Else (feature 38 not in {0.0})\n",
      "         Predict: 1.3389319933810175\n",
      "      Else (feature 421 > 920.5)\n",
      "       If (feature 424 <= 2450.0)\n",
      "        If (feature 423 <= 17900.0)\n",
      "         Predict: 0.6785376840468136\n",
      "        Else (feature 423 > 17900.0)\n",
      "         Predict: 1.8408585740193115\n",
      "       Else (feature 424 > 2450.0)\n",
      "        If (feature 424 <= 2558.0)\n",
      "         Predict: -1.1637480302389014\n",
      "        Else (feature 424 > 2558.0)\n",
      "         Predict: 0.4183687440280094\n",
      "     Else (feature 421 > 1954.5)\n",
      "      If (feature 421 <= 1956.5)\n",
      "       If (feature 424 <= 2558.0)\n",
      "        If (feature 423 <= 17900.0)\n",
      "         Predict: -0.7059473123985193\n",
      "        Else (feature 423 > 17900.0)\n",
      "         Predict: -0.7059473123985245\n",
      "       Else (feature 424 > 2558.0)\n",
      "        If (feature 424 <= 2610.0)\n",
      "         Predict: -0.703635173670192\n",
      "        Else (feature 424 > 2610.0)\n",
      "         Predict: -0.7059473123985163\n",
      "      Else (feature 421 > 1956.5)\n",
      "       If (feature 424 <= 2558.0)\n",
      "        If (feature 424 <= 2450.0)\n",
      "         Predict: -0.7059473123985249\n",
      "        Else (feature 424 > 2450.0)\n",
      "         Predict: -0.7059473123985285\n",
      "       Else (feature 424 > 2558.0)\n",
      "        If (feature 423 <= 17946.0)\n",
      "         Predict: 2.0440526876014733\n",
      "        Else (feature 423 > 17946.0)\n",
      "         Predict: -0.6702330266842361\n",
      "    Else (feature 421 > 1959.5)\n",
      "     If (feature 423 <= 17946.0)\n",
      "      If (feature 423 <= 17900.0)\n",
      "       If (feature 423 <= 17638.0)\n",
      "        If (feature 424 <= 71358.0)\n",
      "         Predict: 0.40650722496776115\n",
      "        Else (feature 424 > 71358.0)\n",
      "         Predict: 1.9067757468326794\n",
      "       Else (feature 423 > 17638.0)\n",
      "        If (feature 424 <= 2418.0)\n",
      "         Predict: 2.853685715124419\n",
      "        Else (feature 424 > 2418.0)\n",
      "         Predict: 0.49660045830211413\n",
      "      Else (feature 423 > 17900.0)\n",
      "       If (feature 424 <= 2450.0)\n",
      "        If (feature 421 <= 2075.5)\n",
      "         Predict: -0.10320758637112842\n",
      "        Else (feature 421 > 2075.5)\n",
      "         Predict: 2.4051637987125853\n",
      "       Else (feature 424 > 2450.0)\n",
      "        If (feature 421 <= 2075.5)\n",
      "         Predict: 2.5477840308850688\n",
      "        Else (feature 421 > 2075.5)\n",
      "         Predict: 3.2940526876014804\n",
      "     Else (feature 423 > 17946.0)\n",
      "      If (feature 421 <= 2075.5)\n",
      "       If (feature 424 <= 2726.0)\n",
      "        If (feature 424 <= 2558.0)\n",
      "         Predict: 0.4310389889713377\n",
      "        Else (feature 424 > 2558.0)\n",
      "         Predict: -0.5630901695413848\n",
      "       Else (feature 424 > 2726.0)\n",
      "        Predict: -2.0171852127219574\n",
      "      Else (feature 421 > 2075.5)\n",
      "       If (feature 424 <= 2726.0)\n",
      "        If (feature 423 <= 17996.0)\n",
      "         Predict: -0.433220039671253\n",
      "        Else (feature 423 > 17996.0)\n",
      "         Predict: 3.087156135877339\n",
      "       Else (feature 424 > 2726.0)\n",
      "        If (feature 425 <= 2.0)\n",
      "         Predict: 0.35044059203431904\n",
      "        Else (feature 425 > 2.0)\n",
      "         Predict: 1.7967682756501517\n",
      "  Tree 2 (weight 0.1):\n",
      "    If (feature 421 <= 1959.5)\n",
      "     If (feature 421 <= 1954.5)\n",
      "      If (feature 421 <= 920.5)\n",
      "       If (feature 3 in {1.0})\n",
      "        Predict: -0.6481415354180752\n",
      "       Else (feature 3 not in {1.0})\n",
      "        If (feature 425 <= 136.0)\n",
      "         Predict: -0.03697779913011916\n",
      "        Else (feature 425 > 136.0)\n",
      "         Predict: -0.24872588939857274\n",
      "      Else (feature 421 > 920.5)\n",
      "       If (feature 424 <= 2450.0)\n",
      "        If (feature 423 <= 17900.0)\n",
      "         Predict: 0.5509253468231428\n",
      "        Else (feature 423 > 17900.0)\n",
      "         Predict: 1.4879168106852263\n",
      "       Else (feature 424 > 2450.0)\n",
      "        If (feature 424 <= 2558.0)\n",
      "         Predict: -0.9562186345048949\n",
      "        Else (feature 424 > 2558.0)\n",
      "         Predict: 0.33938233926066197\n",
      "     Else (feature 421 > 1954.5)\n",
      "      If (feature 421 <= 1956.5)\n",
      "       If (feature 424 <= 2558.0)\n",
      "        If (feature 424 <= 2450.0)\n",
      "         Predict: -0.6275757416200871\n",
      "        Else (feature 424 > 2450.0)\n",
      "         Predict: -0.6275757416200752\n",
      "       Else (feature 424 > 2558.0)\n",
      "        If (feature 424 <= 2610.0)\n",
      "         Predict: -0.6255083182062823\n",
      "        Else (feature 424 > 2610.0)\n",
      "         Predict: -0.6275757416200752\n",
      "      Else (feature 421 > 1956.5)\n",
      "       If (feature 424 <= 2558.0)\n",
      "        Predict: -0.6275757416200838\n",
      "       Else (feature 424 > 2558.0)\n",
      "        If (feature 423 <= 17946.0)\n",
      "         Predict: 1.7744792395465754\n",
      "        Else (feature 423 > 17946.0)\n",
      "         Predict: -0.595650102808206\n",
      "    Else (feature 421 > 1959.5)\n",
      "     If (feature 423 <= 17946.0)\n",
      "      If (feature 423 <= 17900.0)\n",
      "       If (feature 423 <= 17638.0)\n",
      "        If (feature 169 in {1.0})\n",
      "         Predict: -0.7544617809724202\n",
      "        Else (feature 169 not in {1.0})\n",
      "         Predict: 0.4237188019172055\n",
      "       Else (feature 423 > 17638.0)\n",
      "        If (feature 424 <= 2418.0)\n",
      "         Predict: 2.459789010892573\n",
      "        Else (feature 424 > 2418.0)\n",
      "         Predict: 0.4369937843160762\n",
      "      Else (feature 423 > 17900.0)\n",
      "       If (feature 424 <= 2450.0)\n",
      "        If (feature 421 <= 2075.5)\n",
      "         Predict: -0.09128752073988962\n",
      "        Else (feature 421 > 2075.5)\n",
      "         Predict: 2.0813385303337997\n",
      "       Else (feature 424 > 2450.0)\n",
      "        If (feature 421 <= 2075.5)\n",
      "         Predict: 2.2019969733493054\n",
      "        Else (feature 421 > 2075.5)\n",
      "         Predict: 2.828550701307298\n",
      "     Else (feature 423 > 17946.0)\n",
      "      If (feature 421 <= 2075.5)\n",
      "       If (feature 424 <= 2726.0)\n",
      "        If (feature 424 <= 2558.0)\n",
      "         Predict: 0.379516464597501\n",
      "        Else (feature 424 > 2558.0)\n",
      "         Predict: -0.4999847264000665\n",
      "       Else (feature 424 > 2726.0)\n",
      "        Predict: -1.6151111155982845\n",
      "      Else (feature 421 > 2075.5)\n",
      "       If (feature 424 <= 2726.0)\n",
      "        If (feature 423 <= 17996.0)\n",
      "         Predict: -0.38425217009626594\n",
      "        Else (feature 423 > 17996.0)\n",
      "         Predict: 2.655635663011703\n",
      "       Else (feature 424 > 2726.0)\n",
      "        If (feature 425 <= 2.0)\n",
      "         Predict: 0.28135050095003616\n",
      "        Else (feature 425 > 2.0)\n",
      "         Predict: 1.4511469273469402\n",
      "  Tree 3 (weight 0.1):\n",
      "    If (feature 421 <= 1959.5)\n",
      "     If (feature 421 <= 1954.5)\n",
      "      If (feature 421 <= 920.5)\n",
      "       If (feature 3 in {1.0})\n",
      "        Predict: -0.5807831048015722\n",
      "       Else (feature 3 not in {1.0})\n",
      "        If (feature 119 in {0.0})\n",
      "         Predict: -0.07255216583424251\n",
      "        Else (feature 119 not in {0.0})\n",
      "         Predict: 1.4635443106286026\n",
      "      Else (feature 421 > 920.5)\n",
      "       If (feature 424 <= 2450.0)\n",
      "        If (feature 423 <= 17900.0)\n",
      "         Predict: 0.44453553700339155\n",
      "        Else (feature 423 > 17900.0)\n",
      "         Predict: 1.192758128085124\n",
      "       Else (feature 424 > 2450.0)\n",
      "        If (feature 424 <= 2558.0)\n",
      "         Predict: -0.7986414012543259\n",
      "        Else (feature 424 > 2558.0)\n",
      "         Predict: 0.2745597115218452\n",
      "     Else (feature 421 > 1954.5)\n",
      "      If (feature 421 <= 1956.5)\n",
      "       If (feature 424 <= 2558.0)\n",
      "        If (feature 423 <= 17638.0)\n",
      "         Predict: -0.5639860092284797\n",
      "        Else (feature 423 > 17638.0)\n",
      "         Predict: -0.5639860092284851\n",
      "       Else (feature 424 > 2558.0)\n",
      "        If (feature 424 <= 2610.0)\n",
      "         Predict: -0.5620983537049157\n",
      "        Else (feature 424 > 2610.0)\n",
      "         Predict: -0.5639860092284857\n",
      "      Else (feature 421 > 1956.5)\n",
      "       If (feature 424 <= 2558.0)\n",
      "        Predict: -0.5639860092284802\n",
      "       Else (feature 424 > 2558.0)\n",
      "        If (feature 423 <= 17946.0)\n",
      "         Predict: 1.4898107269101684\n",
      "        Else (feature 423 > 17946.0)\n",
      "         Predict: -0.5348574554246196\n",
      "    Else (feature 421 > 1959.5)\n",
      "     If (feature 423 <= 17946.0)\n",
      "      If (feature 423 <= 17900.0)\n",
      "       If (feature 424 <= 2450.0)\n",
      "        If (feature 421 <= 2075.5)\n",
      "         Predict: 0.9444751325682385\n",
      "        Else (feature 421 > 2075.5)\n",
      "         Predict: 0.33149088396266824\n",
      "       Else (feature 424 > 2450.0)\n",
      "        If (feature 423 <= 0.5)\n",
      "         Predict: 1.7741012024037481\n",
      "        Else (feature 423 > 0.5)\n",
      "         Predict: -0.3515594296220789\n",
      "      Else (feature 423 > 17900.0)\n",
      "       If (feature 424 <= 2450.0)\n",
      "        If (feature 421 <= 2075.5)\n",
      "         Predict: -0.08087720042473519\n",
      "        Else (feature 421 > 2075.5)\n",
      "         Predict: 1.7328659695399284\n",
      "       Else (feature 424 > 2450.0)\n",
      "        If (feature 424 <= 2558.0)\n",
      "         Predict: 1.873580125091721\n",
      "        Else (feature 424 > 2558.0)\n",
      "         Predict: 1.5825355012471232\n",
      "     Else (feature 423 > 17946.0)\n",
      "      If (feature 421 <= 2075.5)\n",
      "       If (feature 424 <= 2558.0)\n",
      "        If (feature 425 <= 22.0)\n",
      "         Predict: 0.321969075837998\n",
      "        Else (feature 425 > 22.0)\n",
      "         Predict: 3.1948213095149782\n",
      "       Else (feature 424 > 2558.0)\n",
      "        If (feature 424 <= 2726.0)\n",
      "         Predict: -0.4478457359091067\n",
      "        Else (feature 424 > 2726.0)\n",
      "         Predict: -1.3030027111330873\n",
      "      Else (feature 421 > 2075.5)\n",
      "       If (feature 424 <= 2726.0)\n",
      "        If (feature 423 <= 17996.0)\n",
      "         Predict: -0.34313673138857675\n",
      "        Else (feature 423 > 17996.0)\n",
      "         Predict: 2.1799430751593563\n",
      "       Else (feature 424 > 2726.0)\n",
      "        If (feature 425 <= 2.0)\n",
      "         Predict: 0.22634885422185985\n",
      "        Else (feature 425 > 2.0)\n",
      "         Predict: 1.1947810552339888\n",
      "  Tree 4 (weight 0.1):\n",
      "    If (feature 421 <= 1959.5)\n",
      "     If (feature 421 <= 1954.5)\n",
      "      If (feature 3 in {1.0})\n",
      "       Predict: -0.5254587368103634\n",
      "      Else (feature 3 not in {1.0})\n",
      "       If (feature 421 <= 920.5)\n",
      "        If (feature 155 in {0.0})\n",
      "         Predict: -0.05957051749595411\n",
      "        Else (feature 155 not in {0.0})\n",
      "         Predict: 2.636903582217432\n",
      "       Else (feature 421 > 920.5)\n",
      "        If (feature 424 <= 2450.0)\n",
      "         Predict: 0.6979854146531391\n",
      "        Else (feature 424 > 2450.0)\n",
      "         Predict: -0.074648379055001\n",
      "     Else (feature 421 > 1954.5)\n",
      "      If (feature 421 <= 1956.5)\n",
      "       If (feature 424 <= 2558.0)\n",
      "        Predict: -0.5115198184457711\n",
      "       Else (feature 424 > 2558.0)\n",
      "        If (feature 424 <= 2610.0)\n",
      "         Predict: -0.5097671101223917\n",
      "        Else (feature 424 > 2610.0)\n",
      "         Predict: -0.511519818445772\n",
      "      Else (feature 421 > 1956.5)\n",
      "       If (feature 424 <= 2558.0)\n",
      "        If (feature 425 <= 2.0)\n",
      "         Predict: -0.5115198184457693\n",
      "        Else (feature 425 > 2.0)\n",
      "         Predict: -0.5115198184457768\n",
      "       Else (feature 424 > 2558.0)\n",
      "        If (feature 423 <= 17946.0)\n",
      "         Predict: 1.2197301189943273\n",
      "        Else (feature 423 > 17946.0)\n",
      "         Predict: -0.4845017032871641\n",
      "    Else (feature 421 > 1959.5)\n",
      "     If (feature 423 <= 17946.0)\n",
      "      If (feature 423 <= 17900.0)\n",
      "       If (feature 424 <= 2450.0)\n",
      "        If (feature 423 <= 17638.0)\n",
      "         Predict: 0.3173554639990565\n",
      "        Else (feature 423 > 17638.0)\n",
      "         Predict: 0.8490709633052713\n",
      "       Else (feature 424 > 2450.0)\n",
      "        If (feature 1 in {0.0})\n",
      "         Predict: -0.304277519614256\n",
      "        Else (feature 1 not in {0.0})\n",
      "         Predict: 1.4344001141476275\n",
      "      Else (feature 423 > 17900.0)\n",
      "       If (feature 424 <= 2450.0)\n",
      "        If (feature 421 <= 2075.5)\n",
      "         Predict: -0.0717579643723968\n",
      "        Else (feature 421 > 2075.5)\n",
      "         Predict: 1.4054183871776424\n",
      "       Else (feature 424 > 2450.0)\n",
      "        If (feature 424 <= 2558.0)\n",
      "         Predict: 1.5144934962401762\n",
      "        Else (feature 424 > 2558.0)\n",
      "         Predict: 1.2794270934899645\n",
      "     Else (feature 423 > 17946.0)\n",
      "      If (feature 421 <= 2075.5)\n",
      "       If (feature 424 <= 2558.0)\n",
      "        If (feature 425 <= 6.0)\n",
      "         Predict: 0.2675948962600737\n",
      "        Else (feature 425 > 6.0)\n",
      "         Predict: 1.463556708923528\n",
      "       Else (feature 424 > 2558.0)\n",
      "        If (feature 424 <= 2726.0)\n",
      "         Predict: -0.4041581892749888\n",
      "        Else (feature 424 > 2726.0)\n",
      "         Predict: -1.068541242388055\n",
      "      Else (feature 421 > 2075.5)\n",
      "       If (feature 424 <= 2726.0)\n",
      "        If (feature 423 <= 17996.0)\n",
      "         Predict: -0.30822184912027545\n",
      "        Else (feature 423 > 17996.0)\n",
      "         Predict: 1.7488969739007951\n",
      "       Else (feature 424 > 2726.0)\n",
      "        If (feature 425 <= 2.0)\n",
      "         Predict: 0.182461714646208\n",
      "        Else (feature 425 > 2.0)\n",
      "         Predict: 1.0046101374396983\n",
      "\n",
      "[('CMD_vec', 0.0017374757575544214), ('MINFLT', 0.0020166406647416824), ('VSTEXT', 0.0), ('VSIZE', 0.05413152153860459), ('RSIZE', 0.0), ('RGROW', 0.0), ('MEM', 0.007878723389393197)]\n"
     ]
    }
   ],
   "source": [
    "# 2.3.4 \n",
    "va = mem_gbt.stages[-2]\n",
    "tree = mem_gbt.stages[-1]\n",
    "print(tree.toDebugString)\n",
    "print(list(zip(va.getInputCols(), tree.featureImportances)))"
   ]
  },
  {
   "cell_type": "code",
   "execution_count": 56,
   "metadata": {},
   "outputs": [
    {
     "name": "stdout",
     "output_type": "stream",
     "text": [
      "DecisionTreeClassificationModel: uid=DecisionTreeClassifier_1aba22f4c826, depth=3, numNodes=13, numClasses=2, numFeatures=466\n",
      "  If (feature 3 in {0.0})\n",
      "   If (feature 9 in {1.0})\n",
      "    If (feature 4 in {0.0})\n",
      "     Predict: 1.0\n",
      "    Else (feature 4 not in {0.0})\n",
      "     Predict: 0.0\n",
      "   Else (feature 9 not in {1.0})\n",
      "    If (feature 1 in {1.0})\n",
      "     Predict: 0.0\n",
      "    Else (feature 1 not in {1.0})\n",
      "     Predict: 1.0\n",
      "  Else (feature 3 not in {0.0})\n",
      "   If (feature 464 <= 3.5)\n",
      "    Predict: 0.0\n",
      "   Else (feature 464 > 3.5)\n",
      "    If (feature 462 <= 120.5)\n",
      "     Predict: 0.0\n",
      "    Else (feature 462 > 120.5)\n",
      "     Predict: 1.0\n",
      "\n",
      "[('POLI_vec', 0.0), ('Status_vec', 0.11377580897000912), ('CMD_vec', 0.0), ('TRUN', 0.6180808838213677), ('NICE', 0.026227340327108103), ('PRI', 0.0), ('RTPR', 0.0), ('CPUNR', 0.0), ('CPU', 0.0)]\n"
     ]
    }
   ],
   "source": [
    "# 2.3.4 \n",
    "va = pro_dt.stages[-2]\n",
    "tree = pro_dt.stages[-1]\n",
    "print(tree.toDebugString)\n",
    "print(list(zip(va.getInputCols(), tree.featureImportances)))"
   ]
  },
  {
   "cell_type": "code",
   "execution_count": 57,
   "metadata": {},
   "outputs": [
    {
     "name": "stdout",
     "output_type": "stream",
     "text": [
      "GBTClassificationModel: uid = GBTClassifier_bf7444b3a359, numTrees=5, numClasses=2, numFeatures=466\n",
      "  Tree 0 (weight 1.0):\n",
      "    If (feature 3 in {1.0})\n",
      "     If (feature 464 <= 3.5)\n",
      "      If (feature 8 in {1.0})\n",
      "       If (feature 465 <= 0.005)\n",
      "        If (feature 460 <= 0.5)\n",
      "         Predict: -0.8571864510222764\n",
      "        Else (feature 460 > 0.5)\n",
      "         Predict: -0.7182216656230432\n",
      "       Else (feature 465 > 0.005)\n",
      "        If (feature 460 <= 0.5)\n",
      "         Predict: -0.592196209587514\n",
      "        Else (feature 460 > 0.5)\n",
      "         Predict: -0.3619512195121951\n",
      "      Else (feature 8 not in {1.0})\n",
      "       If (feature 462 <= 114.5)\n",
      "        If (feature 464 <= 2.5)\n",
      "         Predict: 0.103\n",
      "        Else (feature 464 > 2.5)\n",
      "         Predict: -0.76\n",
      "       Else (feature 462 > 114.5)\n",
      "        If (feature 27 in {1.0})\n",
      "         Predict: -1.0\n",
      "        Else (feature 27 not in {1.0})\n",
      "         Predict: -0.4876341919173414\n",
      "     Else (feature 464 > 3.5)\n",
      "      If (feature 29 in {0.0})\n",
      "       If (feature 59 in {0.0})\n",
      "        If (feature 9 in {1.0})\n",
      "         Predict: -0.3435969209237229\n",
      "        Else (feature 9 not in {1.0})\n",
      "         Predict: -0.1944748589236082\n",
      "       Else (feature 59 not in {0.0})\n",
      "        If (feature 465 <= 0.005)\n",
      "         Predict: 0.6326530612244898\n",
      "        Else (feature 465 > 0.005)\n",
      "         Predict: 1.0\n",
      "      Else (feature 29 not in {0.0})\n",
      "       Predict: 0.5522388059701493\n",
      "    Else (feature 3 not in {1.0})\n",
      "     If (feature 9 in {1.0})\n",
      "      If (feature 4 in {1.0})\n",
      "       If (feature 465 <= 0.005)\n",
      "        If (feature 460 <= 0.5)\n",
      "         Predict: -0.27775836768919016\n",
      "        Else (feature 460 > 0.5)\n",
      "         Predict: 0.8367346938775511\n",
      "       Else (feature 465 > 0.005)\n",
      "        If (feature 464 <= 4.5)\n",
      "         Predict: 0.7132352941176471\n",
      "        Else (feature 464 > 4.5)\n",
      "         Predict: 0.2\n",
      "      Else (feature 4 not in {1.0})\n",
      "       If (feature 464 <= 2.5)\n",
      "        If (feature 464 <= 0.5)\n",
      "         Predict: 0.40816326530612246\n",
      "        Else (feature 464 > 0.5)\n",
      "         Predict: 0.323943661971831\n",
      "       Else (feature 464 > 2.5)\n",
      "        If (feature 465 <= 0.005)\n",
      "         Predict: 0.2484472049689441\n",
      "        Else (feature 465 > 0.005)\n",
      "         Predict: -0.1111111111111111\n",
      "     Else (feature 9 not in {1.0})\n",
      "      If (feature 1 in {1.0})\n",
      "       If (feature 89 in {0.0})\n",
      "        If (feature 74 in {1.0})\n",
      "         Predict: -1.0\n",
      "        Else (feature 74 not in {1.0})\n",
      "         Predict: -0.5283702213279678\n",
      "       Else (feature 89 not in {0.0})\n",
      "        Predict: 0.28205128205128205\n",
      "      Else (feature 1 not in {1.0})\n",
      "       If (feature 464 <= 3.5)\n",
      "        If (feature 6 in {1.0})\n",
      "         Predict: -0.11964873765093303\n",
      "        Else (feature 6 not in {1.0})\n",
      "         Predict: 0.24043786220218932\n",
      "       Else (feature 464 > 3.5)\n",
      "        If (feature 118 in {1.0})\n",
      "         Predict: -1.0\n",
      "        Else (feature 118 not in {1.0})\n",
      "         Predict: -0.43869209809264303\n",
      "  Tree 1 (weight 0.1):\n",
      "    If (feature 23 in {0.0})\n",
      "     If (feature 18 in {1.0})\n",
      "      If (feature 3 in {1.0})\n",
      "       If (feature 464 <= 0.5)\n",
      "        If (feature 460 <= 0.5)\n",
      "         Predict: 0.4602289637782899\n",
      "        Else (feature 460 > 0.5)\n",
      "         Predict: -0.7937243297603106\n",
      "       Else (feature 464 > 0.5)\n",
      "        Predict: -1.0953265917772759\n",
      "      Else (feature 3 not in {1.0})\n",
      "       If (feature 465 <= 0.165)\n",
      "        If (feature 464 <= 2.5)\n",
      "         Predict: 0.0019402932443226219\n",
      "        Else (feature 464 > 2.5)\n",
      "         Predict: 1.5281814279960901\n",
      "       Else (feature 465 > 0.165)\n",
      "        If (feature 465 <= 0.38)\n",
      "         Predict: 1.5281814279960901\n",
      "        Else (feature 465 > 0.38)\n",
      "         Predict: 0.5948480946627568\n",
      "     Else (feature 18 not in {1.0})\n",
      "      If (feature 17 in {1.0})\n",
      "       If (feature 465 <= 0.005)\n",
      "        If (feature 3 in {1.0})\n",
      "         Predict: -1.0927525892032524\n",
      "        Else (feature 3 not in {1.0})\n",
      "         Predict: 1.52818142799606\n",
      "       Else (feature 465 > 0.005)\n",
      "        If (feature 465 <= 0.025)\n",
      "         Predict: -0.05584139694274106\n",
      "        Else (feature 465 > 0.025)\n",
      "         Predict: 0.8237185408776817\n",
      "      Else (feature 17 not in {1.0})\n",
      "       If (feature 15 in {1.0})\n",
      "        If (feature 4 in {0.0})\n",
      "         Predict: -0.8706037499694492\n",
      "        Else (feature 4 not in {0.0})\n",
      "         Predict: 0.04503536058036955\n",
      "       Else (feature 15 not in {1.0})\n",
      "        If (feature 16 in {1.0})\n",
      "         Predict: -0.5430854819079833\n",
      "        Else (feature 16 not in {1.0})\n",
      "         Predict: -0.03288349732418863\n",
      "    Else (feature 23 not in {0.0})\n",
      "     If (feature 465 <= 0.005)\n",
      "      If (feature 464 <= 3.5)\n",
      "       If (feature 464 <= 2.5)\n",
      "        If (feature 464 <= 1.5)\n",
      "         Predict: 1.451489887623483\n",
      "        Else (feature 464 > 1.5)\n",
      "         Predict: 1.6960403146975536\n",
      "       Else (feature 464 > 2.5)\n",
      "        Predict: 1.3542858113235097\n",
      "      Else (feature 464 > 3.5)\n",
      "       If (feature 464 <= 4.5)\n",
      "        Predict: 0.6380876127819035\n",
      "       Else (feature 464 > 4.5)\n",
      "        Predict: 0.6768022856429181\n",
      "     Else (feature 465 > 0.005)\n",
      "      If (feature 464 <= 3.5)\n",
      "       If (feature 460 <= 0.5)\n",
      "        If (feature 465 <= 0.015)\n",
      "         Predict: 0.5116299299618589\n",
      "        Else (feature 465 > 0.015)\n",
      "         Predict: 0.6896196447818699\n",
      "       Else (feature 460 > 0.5)\n",
      "        If (feature 464 <= 0.5)\n",
      "         Predict: 2.904673408222734\n",
      "        Else (feature 464 > 0.5)\n",
      "         Predict: -0.09532659177726603\n",
      "      Else (feature 464 > 3.5)\n",
      "       If (feature 465 <= 0.025)\n",
      "        If (feature 464 <= 4.5)\n",
      "         Predict: -0.04445206975777878\n",
      "        Else (feature 464 > 4.5)\n",
      "         Predict: -0.1613351866408958\n",
      "       Else (feature 465 > 0.025)\n",
      "        If (feature 465 <= 0.065)\n",
      "         Predict: -1.5607556264534315\n",
      "        Else (feature 465 > 0.065)\n",
      "         Predict: -0.6158806411863496\n",
      "  Tree 2 (weight 0.1):\n",
      "    If (feature 23 in {0.0})\n",
      "     If (feature 82 in {0.0})\n",
      "      If (feature 30 in {0.0})\n",
      "       If (feature 31 in {0.0})\n",
      "        If (feature 59 in {0.0})\n",
      "         Predict: -0.08671289866945688\n",
      "        Else (feature 59 not in {0.0})\n",
      "         Predict: 1.3483970210365022\n",
      "       Else (feature 31 not in {0.0})\n",
      "        If (feature 3 in {0.0})\n",
      "         Predict: -0.15577542193248198\n",
      "        Else (feature 3 not in {0.0})\n",
      "         Predict: 0.7913383826891988\n",
      "      Else (feature 30 not in {0.0})\n",
      "       If (feature 465 <= 0.035)\n",
      "        If (feature 465 <= 0.005)\n",
      "         Predict: 0.48272638887090474\n",
      "        Else (feature 465 > 0.005)\n",
      "         Predict: -0.9821984165250643\n",
      "       Else (feature 465 > 0.035)\n",
      "        If (feature 465 <= 0.065)\n",
      "         Predict: 1.6138410332242121\n",
      "        Else (feature 465 > 0.065)\n",
      "         Predict: -0.06209657964260388\n",
      "     Else (feature 82 not in {0.0})\n",
      "      If (feature 465 <= 0.005)\n",
      "       Predict: 2.243230004325214\n",
      "      Else (feature 465 > 0.005)\n",
      "       Predict: 2.909896670991884\n",
      "    Else (feature 23 not in {0.0})\n",
      "     If (feature 465 <= 0.005)\n",
      "      If (feature 464 <= 3.5)\n",
      "       If (feature 464 <= 2.5)\n",
      "        If (feature 464 <= 1.5)\n",
      "         Predict: 1.2062050242474978\n",
      "        Else (feature 464 > 1.5)\n",
      "         Predict: 1.4068163009616936\n",
      "       Else (feature 464 > 2.5)\n",
      "        Predict: 1.1262726835881585\n",
      "      Else (feature 464 > 3.5)\n",
      "       If (feature 464 <= 4.5)\n",
      "        Predict: 0.5138232406417971\n",
      "       Else (feature 464 > 4.5)\n",
      "        Predict: 0.5449218957146856\n",
      "     Else (feature 465 > 0.005)\n",
      "      If (feature 464 <= 3.5)\n",
      "       If (feature 460 <= 0.5)\n",
      "        If (feature 465 <= 0.015)\n",
      "         Predict: 0.42838684461352794\n",
      "        Else (feature 465 > 0.015)\n",
      "         Predict: 0.5765687682268449\n",
      "       Else (feature 460 > 0.5)\n",
      "        If (feature 464 <= 0.5)\n",
      "         Predict: 2.389302052462428\n",
      "        Else (feature 464 > 0.5)\n",
      "         Predict: -0.08022776256801378\n",
      "      Else (feature 464 > 3.5)\n",
      "       If (feature 465 <= 0.025)\n",
      "        If (feature 460 <= 0.5)\n",
      "         Predict: -0.08724415848624831\n",
      "        Else (feature 460 > 0.5)\n",
      "         Predict: 0.40949173413217643\n",
      "       Else (feature 465 > 0.025)\n",
      "        If (feature 465 <= 0.065)\n",
      "         Predict: -1.2771597335264928\n",
      "        Else (feature 465 > 0.065)\n",
      "         Predict: -0.49878123983050804\n",
      "  Tree 3 (weight 0.1):\n",
      "    If (feature 18 in {1.0})\n",
      "     If (feature 3 in {1.0})\n",
      "      If (feature 464 <= 0.5)\n",
      "       If (feature 460 <= 0.5)\n",
      "        If (feature 465 <= 0.005)\n",
      "         Predict: 0.2560272320923\n",
      "        Else (feature 465 > 0.005)\n",
      "         Predict: 2.8442625262099472\n",
      "       Else (feature 460 > 0.5)\n",
      "        If (feature 460 <= 1.5)\n",
      "         Predict: -0.6550387473219212\n",
      "        Else (feature 460 > 1.5)\n",
      "         Predict: -0.9609660895781341\n",
      "      Else (feature 464 > 0.5)\n",
      "       If (feature 465 <= 0.045)\n",
      "        Predict: -0.9176183463097238\n",
      "       Else (feature 465 > 0.045)\n",
      "        If (feature 464 <= 1.5)\n",
      "         Predict: -0.9176183463097239\n",
      "        Else (feature 464 > 1.5)\n",
      "         Predict: -0.9176183463097234\n",
      "     Else (feature 3 not in {1.0})\n",
      "      If (feature 460 <= 0.5)\n",
      "       If (feature 464 <= 2.5)\n",
      "        If (feature 464 <= 1.5)\n",
      "         Predict: -2.4557759252976883\n",
      "        Else (feature 464 > 1.5)\n",
      "         Predict: 0.0027725656256777707\n",
      "       Else (feature 464 > 2.5)\n",
      "        If (feature 465 <= 0.38)\n",
      "         Predict: 1.2666352102228127\n",
      "        Else (feature 465 > 0.38)\n",
      "         Predict: 1.433427645371781\n",
      "      Else (feature 460 > 0.5)\n",
      "       If (feature 465 <= 0.005)\n",
      "        If (feature 460 <= 1.5)\n",
      "         Predict: -0.14808361760538052\n",
      "        Else (feature 460 > 1.5)\n",
      "         Predict: 0.8169513474295846\n",
      "       Else (feature 465 > 0.005)\n",
      "        If (feature 464 <= 1.5)\n",
      "         Predict: -0.16657235462821865\n",
      "        Else (feature 464 > 1.5)\n",
      "         Predict: 1.0135049978085933\n",
      "    Else (feature 18 not in {1.0})\n",
      "     If (feature 17 in {1.0})\n",
      "      If (feature 465 <= 0.005)\n",
      "       If (feature 3 in {1.0})\n",
      "        If (feature 464 <= 2.5)\n",
      "         Predict: -0.9179824188912947\n",
      "        Else (feature 464 > 2.5)\n",
      "         Predict: -0.8992030761682883\n",
      "       Else (feature 3 not in {1.0})\n",
      "        Predict: 1.2666352102228302\n",
      "      Else (feature 465 > 0.005)\n",
      "       If (feature 465 <= 0.025)\n",
      "        If (feature 465 <= 0.015)\n",
      "         Predict: -0.07027575542221622\n",
      "        Else (feature 465 > 0.015)\n",
      "         Predict: 0.05505012474227125\n",
      "       Else (feature 465 > 0.025)\n",
      "        If (feature 460 <= 0.5)\n",
      "         Predict: 0.4818413765207344\n",
      "        Else (feature 460 > 0.5)\n",
      "         Predict: 1.9881810202613164\n",
      "     Else (feature 17 not in {1.0})\n",
      "      If (feature 461 <= 5.5)\n",
      "       If (feature 15 in {1.0})\n",
      "        If (feature 4 in {0.0})\n",
      "         Predict: -0.7250423370337307\n",
      "        Else (feature 4 not in {0.0})\n",
      "         Predict: 0.05291467200934405\n",
      "       Else (feature 15 not in {1.0})\n",
      "        If (feature 19 in {1.0})\n",
      "         Predict: -0.5023142624915808\n",
      "        Else (feature 19 not in {1.0})\n",
      "         Predict: 0.03707190457686513\n",
      "      Else (feature 461 > 5.5)\n",
      "       If (feature 465 <= 0.005)\n",
      "        If (feature 460 <= 0.5)\n",
      "         Predict: -0.30812089906269063\n",
      "        Else (feature 460 > 0.5)\n",
      "         Predict: -0.14263882877811485\n",
      "       Else (feature 465 > 0.005)\n",
      "        If (feature 465 <= 0.055)\n",
      "         Predict: -0.08484246238315546\n",
      "        Else (feature 465 > 0.055)\n",
      "         Predict: 0.8819544547596283\n",
      "  Tree 4 (weight 0.1):\n",
      "    If (feature 28 in {0.0})\n",
      "     If (feature 23 in {0.0})\n",
      "      If (feature 465 <= 0.46499999999999997)\n",
      "       If (feature 16 in {1.0})\n",
      "        If (feature 4 in {0.0})\n",
      "         Predict: -0.7483509018950562\n",
      "        Else (feature 4 not in {0.0})\n",
      "         Predict: 0.1594769449862334\n",
      "       Else (feature 16 not in {1.0})\n",
      "        If (feature 82 in {0.0})\n",
      "         Predict: -0.042688957554737166\n",
      "        Else (feature 82 not in {0.0})\n",
      "         Predict: 1.8515842593894956\n",
      "      Else (feature 465 > 0.46499999999999997)\n",
      "       If (feature 3 in {1.0})\n",
      "        If (feature 18 in {1.0})\n",
      "         Predict: -0.6692697439401512\n",
      "        Else (feature 18 not in {1.0})\n",
      "         Predict: 0.2538022960992597\n",
      "       Else (feature 3 not in {1.0})\n",
      "        If (feature 53 in {1.0})\n",
      "         Predict: -2.4562021760280084\n",
      "        Else (feature 53 not in {1.0})\n",
      "         Predict: 0.9024285660948937\n",
      "     Else (feature 23 not in {0.0})\n",
      "      If (feature 465 <= 0.005)\n",
      "       If (feature 464 <= 3.5)\n",
      "        If (feature 464 <= 2.5)\n",
      "         Predict: 1.0307276414867632\n",
      "        Else (feature 464 > 2.5)\n",
      "         Predict: 0.9127966166078795\n",
      "       Else (feature 464 > 3.5)\n",
      "        If (feature 464 <= 4.5)\n",
      "         Predict: 0.40483428965758933\n",
      "        Else (feature 464 > 4.5)\n",
      "         Predict: 0.4296586571678562\n",
      "      Else (feature 465 > 0.005)\n",
      "       If (feature 464 <= 3.5)\n",
      "        If (feature 465 <= 0.10500000000000001)\n",
      "         Predict: 0.36573859392621993\n",
      "        Else (feature 465 > 0.10500000000000001)\n",
      "         Predict: 1.3523482437928276\n",
      "       Else (feature 464 > 3.5)\n",
      "        If (feature 465 <= 0.025)\n",
      "         Predict: -0.07264875593156127\n",
      "        Else (feature 465 > 0.025)\n",
      "         Predict: -0.8528828389197166\n",
      "    Else (feature 28 not in {0.0})\n",
      "     If (feature 465 <= 0.015)\n",
      "      If (feature 464 <= 2.5)\n",
      "       If (feature 460 <= 0.5)\n",
      "        If (feature 464 <= 1.5)\n",
      "         Predict: 0.4891807172246952\n",
      "        Else (feature 464 > 1.5)\n",
      "         Predict: 0.7321851354868462\n",
      "       Else (feature 460 > 0.5)\n",
      "        Predict: -1.0822478542038805\n",
      "      Else (feature 464 > 2.5)\n",
      "       If (feature 465 <= 0.005)\n",
      "        If (feature 460 <= 0.5)\n",
      "         Predict: 2.07148283141665\n",
      "        Else (feature 460 > 0.5)\n",
      "         Predict: -1.082247854203871\n",
      "       Else (feature 465 > 0.005)\n",
      "        If (feature 464 <= 3.5)\n",
      "         Predict: 1.4177521457961224\n",
      "        Else (feature 464 > 3.5)\n",
      "         Predict: 0.8105859541810108\n",
      "     Else (feature 465 > 0.015)\n",
      "      If (feature 465 <= 0.38)\n",
      "       If (feature 465 <= 0.025)\n",
      "        If (feature 464 <= 4.5)\n",
      "         Predict: 0.2122566100719996\n",
      "        Else (feature 464 > 4.5)\n",
      "         Predict: -0.3907077467276601\n",
      "       Else (feature 465 > 0.025)\n",
      "        If (feature 465 <= 0.055)\n",
      "         Predict: 0.5521876751875294\n",
      "        Else (feature 465 > 0.055)\n",
      "         Predict: -0.35326007598807035\n",
      "      Else (feature 465 > 0.38)\n",
      "       If (feature 460 <= 0.5)\n",
      "        If (feature 464 <= 1.5)\n",
      "         Predict: -1.0822478542038758\n",
      "        Else (feature 464 > 1.5)\n",
      "         Predict: 0.917752145796124\n",
      "       Else (feature 460 > 0.5)\n",
      "        If (feature 464 <= 4.5)\n",
      "         Predict: 1.6480960923826102\n",
      "        Else (feature 464 > 4.5)\n",
      "         Predict: 0.3999899276909442\n",
      "\n",
      "[('POLI_vec', 0.0), ('Status_vec', 0.037207779324003445), ('CMD_vec', 0.0), ('TRUN', 0.24085272784015663), ('NICE', 0.04911582817540666), ('PRI', 0.0), ('RTPR', 0.0031053517085314684), ('CPUNR', 0.0), ('CPU', 0.02027093560861396)]\n"
     ]
    }
   ],
   "source": [
    "# 2.3.4 \n",
    "va = pro_gbt.stages[-2]\n",
    "tree = pro_gbt.stages[-1]\n",
    "print(tree.toDebugString)\n",
    "print(list(zip(va.getInputCols(), tree.featureImportances)))"
   ]
  },
  {
   "cell_type": "markdown",
   "metadata": {},
   "source": [
    "#### 2.3.4\n",
    "#### For MEMORY model the top-5 most important features are - MINFLT, CMD, RSIZE, VSIZE and MEM.\n",
    "#### For PROCESS model the top-5 most important features are - Status, TRUN, NICE, RTPR and CPU.\n",
    "#### The feature ts should not be included in the model since its is just a timestamp of the processes."
   ]
  },
  {
   "cell_type": "code",
   "execution_count": 58,
   "metadata": {},
   "outputs": [
    {
     "data": {
      "text/plain": [
       "164306"
      ]
     },
     "execution_count": 58,
     "metadata": {},
     "output_type": "execute_result"
    }
   ],
   "source": [
    "# 2.3.5\n",
    "# Count of attacks in memory training data \n",
    "train_mem.sampleBy(\"attack\", fractions={0: 0, 1: 1}, seed=30192).count()"
   ]
  },
  {
   "cell_type": "code",
   "execution_count": 59,
   "metadata": {},
   "outputs": [
    {
     "name": "stdout",
     "output_type": "stream",
     "text": [
      "+------+-------+\n",
      "|attack|  Count|\n",
      "+------+-------+\n",
      "|     1| 164306|\n",
      "|     0|1435206|\n",
      "+------+-------+\n",
      "\n"
     ]
    }
   ],
   "source": [
    "# 2.3.5\n",
    "# Count of original attacks and non-attacks\n",
    "train_mem.groupby('attack').agg(F.count('attack').alias('Count')).show()"
   ]
  },
  {
   "cell_type": "code",
   "execution_count": 60,
   "metadata": {},
   "outputs": [
    {
     "name": "stdout",
     "output_type": "stream",
     "text": [
      "+------+------+\n",
      "|attack| Count|\n",
      "+------+------+\n",
      "|     1|164306|\n",
      "|     0|327688|\n",
      "+------+------+\n",
      "\n"
     ]
    }
   ],
   "source": [
    "# 2.3.5\n",
    "# Re-balanced data with 1:2 ratio for attacks and non-attacks\n",
    "# 0.2289 = 164306*2/1435206\n",
    "resampled_mem = train_mem.sampleBy(\"attack\", fractions={0: 0.2289, 1: 1}, seed=30192)\n",
    "resampled_mem.groupby('attack').agg(F.count('attack').alias('Count')).show()"
   ]
  },
  {
   "cell_type": "code",
   "execution_count": 61,
   "metadata": {},
   "outputs": [
    {
     "data": {
      "text/plain": [
       "232969"
      ]
     },
     "execution_count": 61,
     "metadata": {},
     "output_type": "execute_result"
    }
   ],
   "source": [
    "# 2.3.5\n",
    "# Count of attacks in process training data \n",
    "train_pro.sampleBy(\"attack\", fractions={0: 0, 1: 1}, seed=30192).count()"
   ]
  },
  {
   "cell_type": "code",
   "execution_count": 62,
   "metadata": {},
   "outputs": [
    {
     "name": "stdout",
     "output_type": "stream",
     "text": [
      "+------+-------+\n",
      "|attack|  Count|\n",
      "+------+-------+\n",
      "|     1| 232969|\n",
      "|     0|1308726|\n",
      "+------+-------+\n",
      "\n"
     ]
    }
   ],
   "source": [
    "# 2.3.5\n",
    "# Count of original attacks and non-attacks\n",
    "train_pro.groupby('attack').agg(F.count('attack').alias('Count')).show()"
   ]
  },
  {
   "cell_type": "code",
   "execution_count": 63,
   "metadata": {},
   "outputs": [
    {
     "name": "stdout",
     "output_type": "stream",
     "text": [
      "+------+------+\n",
      "|attack| Count|\n",
      "+------+------+\n",
      "|     1|232969|\n",
      "|     0|465670|\n",
      "+------+------+\n",
      "\n"
     ]
    }
   ],
   "source": [
    "# 2.3.5\n",
    "# Re-balanced data with 1:2 ratio for attacks and non-attacks\n",
    "# 0.356 = 232969*2/1308726\n",
    "resampled_pro = train_pro.sampleBy(\"attack\", fractions={0: 0.356, 1: 1}, seed=30192)\n",
    "resampled_pro.groupby('attack').agg(F.count('attack').alias('Count')).show()"
   ]
  },
  {
   "cell_type": "code",
   "execution_count": 64,
   "metadata": {},
   "outputs": [
    {
     "data": {
      "text/plain": [
       "DataFrame[ts: int, PID: int, MINFLT: int, MAJFLT: double, VSTEXT: double, VSIZE: double, RSIZE: double, VGROW: double, RGROW: double, MEM: double, CMD: string, attack: int, type: string]"
      ]
     },
     "execution_count": 64,
     "metadata": {},
     "output_type": "execute_result"
    }
   ],
   "source": [
    "# 2.3.5\n",
    "# caching the dataframes for fast access\n",
    "resampled_pro.cache()\n",
    "resampled_mem.cache()"
   ]
  },
  {
   "cell_type": "code",
   "execution_count": 65,
   "metadata": {},
   "outputs": [],
   "source": [
    "# 2.3.5\n",
    "# Fitting the model to train data for memory dataset\n",
    "mem_gbt = pipe_mem_gbt.fit(resampled_mem)\n",
    "# Prediction for the test data using gradient boosted tree classifier\n",
    "pred_remem_gbt = mem_gbt.transform(test_mem)"
   ]
  },
  {
   "cell_type": "code",
   "execution_count": 66,
   "metadata": {},
   "outputs": [],
   "source": [
    "# 2.3.5\n",
    "# Fitting the model to train data for process dataset\n",
    "pro_gbt = pipe_pro_gbt.fit(resampled_pro)\n",
    "# Prediction for the test data using decision tree classifier\n",
    "pred_repro_gbt = pro_gbt.transform(test_pro)"
   ]
  },
  {
   "cell_type": "code",
   "execution_count": 67,
   "metadata": {
    "scrolled": true
   },
   "outputs": [
    {
     "name": "stdout",
     "output_type": "stream",
     "text": [
      "Confusion matrix and Summary Stats for Gradient Boosted Tree - Resampled Memory Data\n",
      "+------+----------+------+\n",
      "|attack|prediction| count|\n",
      "+------+----------+------+\n",
      "|     1|       0.0| 24738|\n",
      "|     0|       0.0|325598|\n",
      "|     1|       1.0| 16579|\n",
      "|     0|       1.0| 33573|\n",
      "+------+----------+------+\n",
      "\n",
      "Summary Stats\n",
      "Accuracy = 0.8544001318391562\n",
      "Precision = 0.3305750518423991\n",
      "Recall = 0.4012634024735581\n",
      "F1 Score = 0.3625053296745345\n",
      "Area Under ROC(AUC): 0.7948389022374287\n"
     ]
    }
   ],
   "source": [
    "# 2.3.5\n",
    "print(\"Confusion matrix and Summary Stats for Gradient Boosted Tree - Resampled Memory Data\")\n",
    "model_eval(pred_remem_gbt)"
   ]
  },
  {
   "cell_type": "code",
   "execution_count": 68,
   "metadata": {
    "scrolled": true
   },
   "outputs": [
    {
     "name": "stdout",
     "output_type": "stream",
     "text": [
      "Confusion matrix and Summary Stats for Gradient Boosted Tree - Resampled Process Data\n",
      "+------+----------+------+\n",
      "|attack|prediction| count|\n",
      "+------+----------+------+\n",
      "|     1|       0.0| 37509|\n",
      "|     0|       0.0|292250|\n",
      "|     1|       1.0| 20886|\n",
      "|     0|       1.0| 35628|\n",
      "+------+----------+------+\n",
      "\n",
      "Summary Stats\n",
      "Accuracy = 0.8106598183150259\n",
      "Precision = 0.36957214141628625\n",
      "Recall = 0.3576676085281274\n",
      "F1 Score = 0.36352243949560087\n",
      "Area Under ROC(AUC): 0.718549544966197\n"
     ]
    }
   ],
   "source": [
    "# 2.3.5\n",
    "print(\"Confusion matrix and Summary Stats for Gradient Boosted Tree - Resampled Process Data\")\n",
    "model_eval(pred_repro_gbt)"
   ]
  },
  {
   "cell_type": "code",
   "execution_count": 70,
   "metadata": {},
   "outputs": [],
   "source": [
    "# 2.3.5\n",
    "# Saves the model to the filesystem\n",
    "mem_gbt.save('memory_gbt_model')\n",
    "pro_gbt.save('process_gbt_model')"
   ]
  },
  {
   "cell_type": "markdown",
   "metadata": {},
   "source": [
    "### 3. Knowledge sharing (10%)"
   ]
  },
  {
   "cell_type": "code",
   "execution_count": 71,
   "metadata": {},
   "outputs": [],
   "source": [
    "iris_df = spark.createDataFrame([\n",
    "(4.7, 3.2, 1.3, 0.2),\n",
    "(4.9, 3.1, 1.5, 0.1),\n",
    "(5.4, 3.9, 1.3, 0.4),\n",
    "(5.0, 3.4, 1.6, 0.4),\n",
    "(5.1, 3.8, 1.6, 0.2),\n",
    "(4.9, 2.4, 3.3, 1.0),\n",
    "(6.6, 2.9, 4.6, 1.3),\n",
    "(5.6, 3.0, 4.5, 1.5),\n",
    "(5.7, 2.6, 3.5, 1.0),\n",
    "(5.8, 2.6, 4.0, 1.2),\n",
    "(5.8, 2.8, 5.1, 2.4),\n",
    "(6.2, 2.8, 4.8, 1.8),\n",
    "(6.0, 3.0, 4.8, 1.8),\n",
    "(6.7, 3.1, 5.6, 2.4),\n",
    "(6.7, 3.0, 5.2, 2.3),\n",
    "(6.2, 3.4, 5.4, 2.3)],\n",
    "['sepal_length', 'sepal_width', 'petal_length', 'petal_width'])\n",
    "\n",
    "assembler = VectorAssembler(\n",
    "inputCols=['sepal_length', 'sepal_width', 'petal_length', 'petal_width'],\n",
    "outputCol='features')\n",
    "kmeans = KMeans(k=3).fit(assembler.transform(iris_df))"
   ]
  },
  {
   "attachments": {
    "image.png": {
     "image/png": "[encoded data removed]"
    }
   },
   "cell_type": "markdown",
   "metadata": {},
   "source": [
    "![image.png](attachment:image.png)"
   ]
  },
  {
   "cell_type": "markdown",
   "metadata": {},
   "source": [
    "#### 3\n",
    "#### This is the job page on the spark UI.\n",
    "#### We can see that a total of 10 jobs (Job Id : 335-344) are executed for the KMEANS task. We also observe that there are a total of 16 stages for the KMEANS task.\n",
    "#### Job Id - 335: takeSample at Kmeans scala:370 - A sample of the data is taken and paralleized for pyspark. This job has 1 stage and 2 tasks.\n",
    "#### Job Id - 337: sum at Kmeans.scala:390 - The distance of the 3 nearest points is calculated. This job has 1 stage and 2 tasks.\n",
    "#### Job Id - 338: collect at Kmeans.scala:395 - The distance data is collected. This job has 1 stage and 2 tasks.\n",
    "#### Job Id - 341: countByValue at KMeans.scala:418 - The points are sorted according to their distance and prediction is done. This job has 2 stage and 4 tasks.\n",
    "#### Job Id - 343: collectAsMap at KMeans.scala:300 - The predicted data is collected. This job has 2 stage and 4 tasks.\n",
    "#### Job Id - 344: collect at ClusteringSummary.scala:49 - The data for two partitions is mapped into one. This job has 2 stage and 202 tasks."
   ]
  }
 ],
 "metadata": {
  "kernelspec": {
   "display_name": "Python 3",
   "language": "python",
   "name": "python3"
  },
  "language_info": {
   "codemirror_mode": {
    "name": "ipython",
    "version": 3
   },
   "file_extension": ".py",
   "mimetype": "text/x-python",
   "name": "python",
   "nbconvert_exporter": "python",
   "pygments_lexer": "ipython3",
   "version": "3.8.2"
  }
 },
 "nbformat": 4,
 "nbformat_minor": 4
}
